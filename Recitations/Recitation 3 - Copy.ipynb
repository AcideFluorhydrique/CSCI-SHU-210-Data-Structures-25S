{
 "cells": [
  {
   "cell_type": "markdown",
   "metadata": {
    "id": "50TY97QJnO0G"
   },
   "source": [
    "## Data Structures - Recitation 3\n",
    "\n",
    "### Recursion\n",
    "\n",
    "Submit your worksheet according to the schedule for your recitation as outlined on Albert:\n",
    "\n",
    "- **Wednesday Recitation:** Due by Friday, 11:59 PM.\n",
    "- **Thursday Recitation:** Due by Saturday, 11:59 PM.\n",
    "- **Friday Recitation:** Due by Sunday, 11:59 PM.\n",
    "\n",
    "\n",
    "**Important Notes**\n",
    "- Each task must show a reasonable attempt to a solution. \n",
    "- Only solutions submitted in *.ipynb* format are accepted.\n",
    "- Invalid and late submissions are not considered for grading.\n",
    "- You must write your name and NetID (-25 points in violation).\n",
    "\n",
    "Name: Geo Wang\n",
    "\n",
    "NetID: yw7997"
   ]
  },
  {
   "cell_type": "markdown",
   "metadata": {},
   "source": [
    "# Learning Outcomes\n",
    "\n",
    "In this recitation, you will learn about the following topics:\n",
    "1. **Problem-Solving with Recursion:** Apply recursion to solve problems efficiently.\n",
    "2. **Time Complexity Analysis:** Learn to determine the time complexity of recursive algorithms."
   ]
  },
  {
   "cell_type": "markdown",
   "metadata": {
    "id": "dhNSZJHLnO0V"
   },
   "source": [
    "# Task 1 - Recursion\tAnalysis"
   ]
  },
  {
   "cell_type": "markdown",
   "metadata": {
    "id": "4j73A74knO0W"
   },
   "source": [
    "What is the output for the following recursive program? Don’t run it, first try to guess.\n",
    "\n",
    "**Answer:** 1 2 1 3 1 2 1 4 1 2 1 3 1 2 1 "
   ]
  },
  {
   "cell_type": "code",
   "execution_count": 2,
   "metadata": {},
   "outputs": [
    {
     "name": "stdout",
     "output_type": "stream",
     "text": [
      "1 2 1 3 1 2 1 4 1 2 1 3 1 2 1 "
     ]
    }
   ],
   "source": [
    "def f(n):\n",
    "    if n > 0:\n",
    "        f(n - 1)\n",
    "        print(n, end=\" \")\n",
    "        f(n - 1)\n",
    "\n",
    "\n",
    "def main():\n",
    "    f(4)\n",
    "\n",
    "\n",
    "if __name__ == \"__main__\":\n",
    "    main()"
   ]
  },
  {
   "cell_type": "markdown",
   "metadata": {
    "id": "x9K3WakonO0d"
   },
   "source": [
    "# Task 2 - Runtime Analysis"
   ]
  },
  {
   "cell_type": "code",
   "execution_count": 3,
   "metadata": {},
   "outputs": [],
   "source": [
    "def func1(n):\n",
    "    if n < 1:\n",
    "        return\n",
    "    else:\n",
    "        for i in range(5 * n):\n",
    "            print(\"hi\")\n",
    "        func1(n - 5)"
   ]
  },
  {
   "cell_type": "markdown",
   "metadata": {
    "id": "jF_SVo_FnO0h"
   },
   "source": [
    "What is the worst case time complexity of the function *func1*?\n",
    "\n",
    "**Answer:** O(n^2)"
   ]
  },
  {
   "cell_type": "code",
   "execution_count": 4,
   "metadata": {},
   "outputs": [],
   "source": [
    "def func2(n):\n",
    "    if n < 1:\n",
    "        return\n",
    "    else:\n",
    "        func2(n - 1)\n",
    "        func2(n - 1)\n",
    "        for i in range(n):\n",
    "            print(\"*\")"
   ]
  },
  {
   "cell_type": "markdown",
   "metadata": {
    "id": "RyTTH9eAnO0k"
   },
   "source": [
    "What is the worst case time complexity of the function *func2*?\n",
    "\n",
    "**Answer:** O(2^n)"
   ]
  },
  {
   "cell_type": "markdown",
   "metadata": {
    "id": "qiKxHc6VnO0m"
   },
   "source": [
    "# Task 3 - Palindrome"
   ]
  },
  {
   "cell_type": "markdown",
   "metadata": {
    "id": "x4e39iL_nO0o"
   },
   "source": [
    "Implement function *palindrome()*. This function assesses whether an input String is indeed a palindrome.\n",
    "\n",
    "**Important:**\n",
    "1. Check the string letter by letter, no *string.reverse()*\n",
    "2. Use recursion to break large problem into smaller problem."
   ]
  },
  {
   "cell_type": "code",
   "execution_count": 5,
   "metadata": {
    "id": "og9bxf-anO0p",
    "outputId": "917ee646-a64c-4afd-e478-986b1f3abf89"
   },
   "outputs": [
    {
     "name": "stdout",
     "output_type": "stream",
     "text": [
      "All tests passed successfully!\n"
     ]
    }
   ],
   "source": [
    "def palindrome_recursive(string, index):\n",
    "    \"\"\"\n",
    "    # Complete the palindrome algorithm --- with recursion\n",
    "    # Think about how to break a large problem into smaller subproblems.\n",
    "    What is our base case in this problem?\n",
    "\n",
    "    # Another way to ask: what is our smallest problem?\n",
    "    How to get to this smallest problem?\n",
    "\n",
    "    :param string: String -- the string to check whether it is a palindrome\n",
    "    :param index: Int -- additional parameter for recursion tracking\n",
    "    :return: True, if @string is palindrome, False otherwise\n",
    "    \"\"\"\n",
    "\n",
    "    # Please write your code here.\n",
    "    if len(string) == 0:\n",
    "        return True\n",
    "    elif len(string) ==1:\n",
    "        return True\n",
    "    else:\n",
    "        if string[0] == string[-1]:\n",
    "            return palindrome_recursive(string[1:-1], index)\n",
    "        else:\n",
    "            return False\n",
    "    # pass\n",
    "\n",
    "\n",
    "def main():\n",
    "    s1 = \"nodevillivedon\"\n",
    "    s2 = \"livenoevil!liveonevil\"\n",
    "    s3 = \"beliveivileb\"\n",
    "\n",
    "    r1 = palindrome_recursive(s1, 0)\n",
    "    r2 = palindrome_recursive(s2, 0)\n",
    "    r3 = palindrome_recursive(s3, 0)\n",
    "\n",
    "    assert r1 == True, \"Error in palindrome_recursive function for nodevillivedon\"\n",
    "    assert r2 == True, \"Error in palindrome_recursive function for livenoevil!liveonevil\"\n",
    "    assert r3 == False, \"Error in palindrome_recursive function for beliveivileb\"\n",
    "\n",
    "    print(\"All tests passed successfully!\")\n",
    "\n",
    "\n",
    "if __name__ == \"__main__\":\n",
    "    main()"
   ]
  },
  {
   "cell_type": "markdown",
   "metadata": {
    "id": "9mvlXlLqnO0u"
   },
   "source": [
    "# Task 4 - Tower of Hanoi"
   ]
  },
  {
   "cell_type": "markdown",
   "metadata": {
    "id": "pGO7BIeinO0u"
   },
   "source": [
    "Your task is to code the famous Tower of Hanoi problem. Complete function *hanoi()*, so the disks move correctly when you run the program.\n",
    "\n",
    "**Important:**\n",
    "1. We have a graphical demo for this question. (Only works in your local IDE)\n",
    "2. The start, goal,and mid parameters represent three poles.\n",
    "3. To move a disk, call the function game.move(num_disks, start, goal)\n",
    "4. Use recursion to break large problems into smaller problems."
   ]
  },
  {
   "cell_type": "code",
   "execution_count": 2,
   "metadata": {
    "colab": {
     "base_uri": "https://localhost:8080/",
     "height": 363
    },
    "id": "rf4MvePnnO0v",
    "outputId": "b95fea72-4ae2-4903-eb39-7bca1dc9802c"
   },
   "outputs": [],
   "source": [
    "from tkinter import Tk, Canvas\n",
    "\n",
    "\n",
    "def hanoi(num_disks, start, goal, mid):\n",
    "    \"\"\"\n",
    "    Implement the tower of hanoi algorithm. If implemented correctly, a window should pop up, \n",
    "    and disks will move as desired. To move a disk, you can call game.move(num_disks, start, goal)\n",
    "\n",
    "    :param num_disks: The number of disks in this function call.\n",
    "    :param start: Int -- start moving from this pole\n",
    "    :param goal: Int -- move to this pole\n",
    "    :param mid: Int -- Intermediate pole for this move.\n",
    "    :return: None, nothing to return\n",
    "    \"\"\"\n",
    "\n",
    "    # Please write your code here.\n",
    "\n",
    "    if num_disks == 0:\n",
    "        return\n",
    "    # elif num_disks == 1:\n",
    "    #     game.move(1, 1, 3)\n",
    "        # return\n",
    "    \n",
    "\n",
    "\n",
    "    hanoi(num_disks - 1, start, mid, goal)\n",
    "    game.move(num_disks, start, goal)\n",
    "    hanoi(num_disks - 1, mid, goal, start)\n",
    "\n",
    "    # pass\n",
    "\n",
    "\n",
    "class TkHanoi:\n",
    "    def __init__(self, n):\n",
    "        self.n = n\n",
    "        self.tk = tk = Tk()\n",
    "        self.canvas = c = Canvas(tk)\n",
    "        c.pack()\n",
    "        width, height = tk.getint(c['width']), tk.getint(c['height'])\n",
    "\n",
    "        peg_width = 10\n",
    "        peg_height = height // 2\n",
    "        peg_dist = width // 3\n",
    "        x1, y1 = (peg_dist - peg_width) // 2, height * 1 // 3\n",
    "        x2, y2 = x1 + peg_width, y1 + peg_height\n",
    "        self.pegs = []\n",
    "        p = c.create_rectangle(x1, y1, x2, y2, fill='black')\n",
    "        self.pegs.append(p)\n",
    "        x1, x2 = x1 + peg_dist, x2 + peg_dist\n",
    "        p = c.create_rectangle(x1, y1, x2, y2, fill='black')\n",
    "        self.pegs.append(p)\n",
    "        x1, x2 = x1 + peg_dist, x2 + peg_dist\n",
    "        p = c.create_rectangle(x1, y1, x2, y2, fill='black')\n",
    "        self.pegs.append(p)\n",
    "        self.tk.update()\n",
    "\n",
    "        piece_height = peg_height // 16\n",
    "        max_piece_width = peg_dist * 2 // 3\n",
    "        min_piece_width = 2 * peg_width\n",
    "        self.peg_state = [[], [], []]\n",
    "        self.pieces = {}\n",
    "        x1, y1 = (peg_dist - max_piece_width) // 2, y2 - piece_height - 2\n",
    "        x2, y2 = x1 + max_piece_width, y1 + piece_height\n",
    "        dx = (max_piece_width - min_piece_width) // (2 * max(1, n - 1))\n",
    "        for i in range(n, 0, -1):\n",
    "            p = c.create_rectangle(x1, y1, x2, y2, fill='red')\n",
    "            self.pieces[i] = p\n",
    "            self.peg_state[0].append(i)\n",
    "            x1, x2 = x1 + dx, x2 - dx\n",
    "            y1, y2 = y1 - piece_height - 2, y2 - piece_height - 2\n",
    "            self.tk.update()\n",
    "            self.tk.after(25)\n",
    "\n",
    "    def run(self):\n",
    "        hanoi(self.n, 0, 2, 1)\n",
    "\n",
    "    def move(self, i, a, b):\n",
    "        if self.peg_state[a][-1] != i: raise RuntimeError\n",
    "        del self.peg_state[a][-1]\n",
    "        p = self.pieces[i]\n",
    "        c = self.canvas\n",
    "\n",
    "        ax1, ay1, ax2, ay2 = c.bbox(self.pegs[a])\n",
    "        while 1:\n",
    "            x1, y1, x2, y2 = c.bbox(p)\n",
    "            if y2 < ay1: break\n",
    "            c.move(p, 0, -1)\n",
    "            self.tk.update()\n",
    "\n",
    "        bx1, by1, bx2, by2 = c.bbox(self.pegs[b])\n",
    "        new_center = (bx1 + bx2) // 2\n",
    "        while 1:\n",
    "            x1, y1, x2, y2 = c.bbox(p)\n",
    "            center = (x1 + x2) // 2\n",
    "            if center == new_center: break\n",
    "            if center > new_center:\n",
    "                c.move(p, -1, 0)\n",
    "            else:\n",
    "                c.move(p, 1, 0)\n",
    "            self.tk.update()\n",
    "\n",
    "        piece_height = y2 - y1\n",
    "        new_bottom = by2 - piece_height * len(self.peg_state[b]) - 2\n",
    "        while 1:\n",
    "            x1, y1, x2, y2 = c.bbox(p)\n",
    "            if y2 >= new_bottom: break\n",
    "            c.move(p, 0, 1)\n",
    "            self.tk.update()\n",
    "        self.peg_state[b].append(i)\n",
    "\n",
    "\n",
    "def main():\n",
    "    global game\n",
    "    game = TkHanoi(6)\n",
    "    game.run()\n",
    "\n",
    "\n",
    "if __name__ == \"__main__\":\n",
    "    main()"
   ]
  },
  {
   "cell_type": "markdown",
   "metadata": {
    "id": "vGThgS_9nO0y"
   },
   "source": [
    "# Task 5 - Combinations"
   ]
  },
  {
   "cell_type": "markdown",
   "metadata": {
    "id": "4z-4bbiAnO0z"
   },
   "source": [
    "Implement a recursive approach to show all the teams that can be created from a group\n",
    "(out of n things choose k at a time). Implement the recursive *showTeams()*, given a group of\n",
    "players, and the size of the team, display all the possible combinations of players.\n",
    "\n",
    "**Important:**\n",
    "1. Combination is different from permutation. This is a combination problem.\n",
    "2. There are $\\frac{n!}{k!(n-k)!}$ combinations (Choose k out of n) [1, 2], [2, 1] are the same\n",
    "combinations.\n",
    "3. There are $\\frac{n!}{(n-k)!}$ permutations (Choose k out of n) [1, 2], [2, 1] are different permutations.\n",
    "4. Understand what is a help function."
   ]
  },
  {
   "cell_type": "markdown",
   "metadata": {
    "id": "YV49bbgTnO0z"
   },
   "source": [
    "#### Example Input:\n",
    "\n",
    "```\n",
    "players = [“Dey”, “Ruowen”, “Josh”, “Kinder”, “Mario”, “Rock”, “LOL”] # 7 players\n",
    "\n",
    "show_team_driver(players, 2) # Choose 2 from 7\n",
    "```"
   ]
  },
  {
   "cell_type": "markdown",
   "metadata": {
    "id": "PJnP_fNpnO00"
   },
   "source": [
    "#### Should output:\n",
    "\n",
    "\n",
    "```\n",
    "['Rock', 'LOL']\n",
    "['Mario', 'LOL']\n",
    "['Mario', 'Rock']\n",
    "['Kinder', 'LOL']\n",
    "['Kinder', 'Rock']\n",
    "['Kinder', 'Mario']\n",
    "['Josh', 'LOL']\n",
    "['Josh', 'Rock']\n",
    "['Josh', 'Mario']\n",
    "['Josh', 'Kinder']\n",
    "['Ruowen', 'LOL']\n",
    "['Ruowen', 'Rock']\n",
    "['Ruowen', 'Mario']\n",
    "['Ruowen', 'Kinder']\n",
    "['Ruowen', 'Josh']\n",
    "['Dey', 'LOL']\n",
    "['Dey', 'Rock']\n",
    "['Dey', 'Mario']\n",
    "['Dey', 'Kinder']\n",
    "['Dey', 'Josh']\n",
    "['Dey', 'Ruowen']\n",
    "```"
   ]
  },
  {
   "cell_type": "markdown",
   "metadata": {
    "id": "mL5atLz9nO00"
   },
   "source": [
    "#### Another example Input:\n",
    "\n",
    "```\n",
    "players = [“Dey”, “Ruowen”, “Josh”, “Kinder”, “Mario”, “Rock”, “LOL”] # 7 players\n",
    "\n",
    "show_team_driver(players, 4) # Choose 4 from 7\n",
    "```"
   ]
  },
  {
   "cell_type": "markdown",
   "metadata": {
    "id": "l1e5QcZinO01"
   },
   "source": [
    "#### Should output:\n",
    "    \n",
    "```\n",
    "['Kinder', 'Mario', 'Rock', 'LOL']\n",
    "['Josh', 'Mario', 'Rock', 'LOL']\n",
    "['Josh', 'Kinder', 'Rock', 'LOL']\n",
    "['Josh', 'Kinder', 'Mario', 'LOL']\n",
    "['Josh', 'Kinder', 'Mario', 'Rock']\n",
    "['Ruowen', 'Mario', 'Rock', 'LOL']\n",
    "['Ruowen', 'Kinder', 'Rock', 'LOL']\n",
    "['Ruowen', 'Kinder', 'Mario', 'LOL']\n",
    "['Ruowen', 'Kinder', 'Mario', 'Rock']\n",
    "['Ruowen', 'Josh', 'Rock', 'LOL']\n",
    "['Ruowen', 'Josh', 'Mario', 'LOL']\n",
    "['Ruowen', 'Josh', 'Mario', 'Rock']\n",
    "['Ruowen', 'Josh', 'Kinder', 'LOL']\n",
    "['Ruowen', 'Josh', 'Kinder', 'Rock']\n",
    "['Ruowen', 'Josh', 'Kinder', 'Mario']\n",
    "['Professor Day', 'Mario', 'Rock', 'LOL']\n",
    "['Professor Day', 'Kinder', 'Rock', 'LOL']\n",
    "['Professor Day', 'Kinder', 'Mario', 'LOL']\n",
    "['Professor Day', 'Kinder', 'Mario', 'Rock']\n",
    "['Professor Day', 'Josh', 'Rock', 'LOL']\n",
    "['Professor Day', 'Josh', 'Mario', 'LOL']\n",
    "['Professor Day', 'Josh', 'Mario', 'Rock']\n",
    "['Professor Day', 'Josh', 'Kinder', 'LOL']\n",
    "['Professor Day', 'Josh', 'Kinder', 'Rock']\n",
    "['Professor Day', 'Josh', 'Kinder', 'Mario']\n",
    "['Professor Day', 'Ruowen', 'Rock', 'LOL']\n",
    "['Professor Day', 'Ruowen', 'Mario', 'LOL']\n",
    "['Professor Day', 'Ruowen', 'Mario', 'Rock']\n",
    "['Professor Day', 'Ruowen', 'Kinder', 'LOL']\n",
    "['Professor Day', 'Ruowen', 'Kinder', 'Rock']\n",
    "['Professor Day', 'Ruowen', 'Kinder', 'Mario']\n",
    "['Professor Day', 'Ruowen', 'Josh', 'LOL']\n",
    "['Professor Day', 'Ruowen', 'Josh', 'Rock']\n",
    "['Professor Day', 'Ruowen', 'Josh', 'Mario']\n",
    "['Professor Day', 'Ruowen', 'Josh', 'Kinder']\n",
    "```\n",
    "\n"
   ]
  },
  {
   "cell_type": "code",
   "execution_count": null,
   "metadata": {
    "id": "DnP0aUJanO01",
    "outputId": "55fa41c9-1e9a-4390-85bc-0099a4db8162"
   },
   "outputs": [
    {
     "name": "stdout",
     "output_type": "stream",
     "text": [
      "['Rock', 'LOL']\n",
      "['Mario', 'LOL']\n",
      "['Mario', 'Rock']\n",
      "['Kinder', 'LOL']\n",
      "['Kinder', 'Rock']\n",
      "['Kinder', 'Mario']\n",
      "['Josh', 'LOL']\n",
      "['Josh', 'Rock']\n",
      "['Josh', 'Mario']\n",
      "['Josh', 'Kinder']\n",
      "['Ruowen', 'LOL']\n",
      "['Ruowen', 'Rock']\n",
      "['Ruowen', 'Mario']\n",
      "['Ruowen', 'Kinder']\n",
      "['Ruowen', 'Josh']\n",
      "['Dey', 'LOL']\n",
      "['Dey', 'Rock']\n",
      "['Dey', 'Mario']\n",
      "['Dey', 'Kinder']\n",
      "['Dey', 'Josh']\n",
      "['Dey', 'Ruowen']\n"
     ]
    }
   ],
   "source": [
    "import copy\n",
    "\n",
    "\n",
    "def show_team(names, team_size):\n",
    "    help_show_team(names, team_size, [], 0)\n",
    "\n",
    "\n",
    "def help_show_team(names, team_size, result_list, position):\n",
    "    \"\"\"\n",
    "    # Base case 1: we get enough persons in the result_list.\n",
    "    # Base case 2: we have checked all the players.\n",
    "\n",
    "    # Create two branches\n",
    "    # Branch 1 add current person to result_list\n",
    "    # Branch 2 does not add current person to result_list(copy)\n",
    "    # Move on to the next person\n",
    "\n",
    "    :param names: List[String] -- list of players\n",
    "    :param team_size: Int -- choose how many players\n",
    "    :param result_list: List[String] -- Additional list parameter for recursion\n",
    "    :param position: Int -- Additional index parameter for recursion\n",
    "    :return: None, nothing to return\n",
    "    \"\"\"\n",
    "\n",
    "    # Please write your code here.\n",
    "\n",
    "    if len(result_list) == team_size:\n",
    "        print(result_list)\n",
    "        return; \n",
    "    if position == len(names):\n",
    "        return; \n",
    "    help_show_team(names, team_size, result_list, position + 1)\n",
    "\n",
    "    result_list2 = copy.deepcopy(result_list)\n",
    "    result_list2.append(names[position])\n",
    "    help_show_team(names, team_size, result_list2, position + 1)\n",
    "    return\n",
    "    # pass\n",
    "\n",
    "\n",
    "def main():\n",
    "    players = [\"Dey\", \"Ruowen\", \"Josh\", \"Kinder\", \"Mario\", \"Rock\", \"LOL\"]\n",
    "    show_team(players, 2)\n",
    "\n",
    "\n",
    "if __name__ == \"__main__\":\n",
    "    main()"
   ]
  },
  {
   "cell_type": "markdown",
   "metadata": {
    "id": "07t528xHnO02"
   },
   "source": [
    "# Task 6 - Binary Search"
   ]
  },
  {
   "cell_type": "markdown",
   "metadata": {
    "id": "HxCTAEc9nO03"
   },
   "source": [
    "Complete function *binary_search()*: this function uses a binary search to determine whether an ordered list contains a specified value. We will implement two versions of binary search:\n",
    "1. Recursive\n",
    "2. Iterative"
   ]
  },
  {
   "cell_type": "code",
   "execution_count": 5,
   "metadata": {
    "id": "9SHf2jMTnO04",
    "outputId": "5978b6c2-445c-4170-c89a-f9248f7114eb"
   },
   "outputs": [
    {
     "name": "stdout",
     "output_type": "stream",
     "text": [
      "Testing recursive binary search ...\n",
      "List contains value 45\n",
      "List does not contain value 10\n",
      "List contains value 41\n",
      "List contains value 44\n",
      "List contains value 46\n",
      "Testing iterative binary search ...\n",
      "List does not contain value 55\n",
      "List does not contain value 82\n",
      "List contains value 40\n",
      "List does not contain value 55\n",
      "List does not contain value 62\n"
     ]
    }
   ],
   "source": [
    "import random\n",
    "\n",
    "\n",
    "def binary_search_rec(x, sorted_list):\n",
    "    \"\"\"\n",
    "    This function uses binary search to determine whether an ordered array\n",
    "    contains a specified value.\n",
    "    \n",
    "    :param x: The value to search for.\n",
    "    :param sorted_list: a sorted list of integers.\n",
    "    :return: True if value x is in the list, False otherwise.\n",
    "    \"\"\"\n",
    "\n",
    "    # Please write your code here.\n",
    "    if len(sorted_list) == 0:\n",
    "        return False\n",
    "    if sorted_list[len(sorted_list) // 2] == x:\n",
    "        return True\n",
    "    elif sorted_list[len(sorted_list) // 2] > x:\n",
    "        return binary_search_rec(x, sorted_list[:len(sorted_list) // 2])\n",
    "    elif sorted_list[len(sorted_list) //2] < x:\n",
    "        return binary_search_rec(x, sorted_list[len(sorted_list) // 2 + 1:])\n",
    "    # pass\n",
    "\n",
    "\n",
    "def binary_search_iter(x, sorted_list):\n",
    "    \"\"\"\n",
    "    This function uses binary search to determine whether an ordered array\n",
    "    contains a specified value.\n",
    "    \n",
    "    :param x: The value to search for.\n",
    "    :param sorted_list: a sorted list of integers.\n",
    "    :return: True if value x is in the list, False otherwise.\n",
    "    \"\"\"\n",
    "\n",
    "    # Please write your code here.\n",
    "    if len(sorted_list) == 0:\n",
    "        return False\n",
    "    l =0\n",
    "    r = len(sorted_list) - 1\n",
    "    # mid = (l + r)//2\n",
    "    while l <= r:\n",
    "        mid = (l + r)//2\n",
    "        if sorted_list[mid] == x:\n",
    "            return True\n",
    "        elif sorted_list[mid] > x:\n",
    "            r = mid - 1\n",
    "        else:\n",
    "            l = mid + 1\n",
    "    # pass\n",
    "\n",
    "\n",
    "def main():\n",
    "    sorted_list = []\n",
    "    for i in range(100):\n",
    "        sorted_list.append(random.randint(0, 100))\n",
    "    sorted_list.sort()\n",
    "\n",
    "    print(\"Testing recursive binary search ...\")\n",
    "    for i in range(5):\n",
    "        value = random.randint(0, 100)\n",
    "        answer = binary_search_rec(value, sorted_list)\n",
    "        if answer:\n",
    "            print(\"List contains value\", value)\n",
    "        else:\n",
    "            print(\"List does not contain value\", value)\n",
    "\n",
    "    print(\"Testing iterative binary search ...\")\n",
    "    for i in range(5):\n",
    "        value = random.randint(0, 100)\n",
    "        answer = binary_search_iter(value, sorted_list)\n",
    "        if answer:\n",
    "            print(\"List contains value\", value)\n",
    "        else:\n",
    "            print(\"List does not contain value\", value)\n",
    "\n",
    "\n",
    "if __name__ == \"__main__\":\n",
    "    main()"
   ]
  },
  {
   "cell_type": "markdown",
   "metadata": {
    "id": "0Y_aueWanO05"
   },
   "source": [
    "# Task 7 - Draw a Tree"
   ]
  },
  {
   "cell_type": "markdown",
   "metadata": {
    "id": "eknRsAMjnO05"
   },
   "source": [
    "Use Turtle module draw a Tree (**Use recursion**)</br>  \n",
    "\n",
    "Turtle module is a python built in module. Turtle module draws lines by moving the cursor.\n",
    "\n"
   ]
  },
  {
   "cell_type": "markdown",
   "metadata": {
    "id": "egRyaCALnO05"
   },
   "source": [
    "**For example (the following works only in your IDE)**\n",
    "\n",
    "```\n",
    "import turtle\n",
    "t = turtle.Turtle() # Initialize the turtle\n",
    "t.left(30) # The turtle turns left 30 degrees\n",
    "t.right(30) # The turtle turns right 30 degrees\n",
    "t.forward(20) # The turtle moves forward 20 pixels, leave a line on the path.\n",
    "t.backward(30) # The turtle moves backward 30 pixels, leave a line on the path.\n",
    "```\n",
    "\n",
    "… and more! In this recitation, that’s all we need.\"\"\""
   ]
  },
  {
   "cell_type": "markdown",
   "metadata": {
    "id": "RReSC5lbnO06"
   },
   "source": [
    "With the mind set of recursion, let’s break down this problem.\n",
    "\n",
    "1. Move forward\n",
    "2. Make a turn, aim to the direction for the first branch\n",
    "3. Recursion for a smaller problem\n",
    "4. Make a turn, aim to the direction for the second branch\n",
    "5. Recursion for a smaller problem\n",
    "6. Make a turn, aim to the direction for coming back\n",
    "7. Come back"
   ]
  },
  {
   "cell_type": "markdown",
   "metadata": {
    "id": "UjdbMzCCnO06"
   },
   "source": [
    "Base case: If the branch is too small, stop.   \n",
    "Otherwise, we should create two new branches (two recursions, two smaller problems)"
   ]
  },
  {
   "cell_type": "code",
   "execution_count": 6,
   "metadata": {
    "colab": {
     "base_uri": "https://localhost:8080/"
    },
    "id": "WG4nN0ac0_f7",
    "outputId": "49f3e731-5a03-4511-c586-0207ac8c6987"
   },
   "outputs": [
    {
     "name": "stdout",
     "output_type": "stream",
     "text": [
      "^C\n"
     ]
    },
    {
     "name": "stdout",
     "output_type": "stream",
     "text": [
      "Collecting ColabTurtle\n",
      "  Downloading ColabTurtle-2.1.0.tar.gz (6.8 kB)\n",
      "  Preparing metadata (setup.py): started\n",
      "  Preparing metadata (setup.py): finished with status 'done'\n",
      "Building wheels for collected packages: ColabTurtle\n",
      "  Building wheel for ColabTurtle (setup.py): started\n",
      "  Building wheel for ColabTurtle (setup.py): finished with status 'done'\n",
      "  Created wheel for ColabTurtle: filename=ColabTurtle-2.1.0-py3-none-any.whl size=7645 sha256=bc4bd16704ea27e633126118214282fab574457e3551b8081d7d2b1a3fab4436\n",
      "  Stored in directory: c:\\users\\geora\\appdata\\local\\pip\\cache\\wheels\\9f\\af\\64\\ffd85f9858ed7d56b7293dcedbc9d461bf13c8cfc97e352bc8\n",
      "Successfully built ColabTurtle\n",
      "Installing collected packages: ColabTurtle\n",
      "Successfully installed ColabTurtle-2.1.0\n"
     ]
    }
   ],
   "source": [
    "!pip3 install ColabTurtle"
   ]
  },
  {
   "cell_type": "code",
   "execution_count": null,
   "metadata": {
    "colab": {
     "base_uri": "https://localhost:8080/",
     "height": 521
    },
    "id": "mCXdwWTNnO07",
    "outputId": "670947a2-f6c6-42da-acbc-d7c670b95e97"
   },
   "outputs": [
    {
     "data": {
      "text/html": [
       "\n",
       "      <svg width=\"800\" height=\"500\">\n",
       "        <rect width=\"100%\" height=\"100%\" fill=\"black\"/>\n",
       "        <line x1=\"400\" y1=\"250\" x2=\"400.0\" y2=\"350.0\" stroke-linecap=\"round\" style=\"stroke:white;stroke-width:4\"/><line x1=\"400.0\" y1=\"350.0\" x2=\"400.0\" y2=\"250.0\" stroke-linecap=\"round\" style=\"stroke:green;stroke-width:4\"/><line x1=\"400.0\" y1=\"250.0\" x2=\"427.362\" y2=\"174.825\" stroke-linecap=\"round\" style=\"stroke:green;stroke-width:4\"/><line x1=\"427.362\" y1=\"174.825\" x2=\"465.929\" y2=\"128.862\" stroke-linecap=\"round\" style=\"stroke:green;stroke-width:4\"/><line x1=\"465.929\" y1=\"128.862\" x2=\"500.57\" y2=\"108.862\" stroke-linecap=\"round\" style=\"stroke:green;stroke-width:4\"/><line x1=\"500.57\" y1=\"108.862\" x2=\"520.266\" y2=\"105.389\" stroke-linecap=\"round\" style=\"stroke:green;stroke-width:4\"/><line x1=\"520.266\" y1=\"105.389\" x2=\"500.57\" y2=\"108.862\" stroke-linecap=\"round\" style=\"stroke:green;stroke-width:4\"/><line x1=\"500.57\" y1=\"108.862\" x2=\"513.426\" y2=\"93.541\" stroke-linecap=\"round\" style=\"stroke:green;stroke-width:4\"/><line x1=\"513.426\" y1=\"93.541\" x2=\"500.57\" y2=\"108.862\" stroke-linecap=\"round\" style=\"stroke:green;stroke-width:4\"/><line x1=\"500.57\" y1=\"108.862\" x2=\"465.929\" y2=\"128.862\" stroke-linecap=\"round\" style=\"stroke:green;stroke-width:4\"/><line x1=\"465.929\" y1=\"128.862\" x2=\"479.61\" y2=\"91.274\" stroke-linecap=\"round\" style=\"stroke:green;stroke-width:4\"/><line x1=\"479.61\" y1=\"91.274\" x2=\"492.466\" y2=\"75.953\" stroke-linecap=\"round\" style=\"stroke:green;stroke-width:4\"/><line x1=\"492.466\" y1=\"75.953\" x2=\"479.61\" y2=\"91.274\" stroke-linecap=\"round\" style=\"stroke:green;stroke-width:4\"/><line x1=\"479.61\" y1=\"91.274\" x2=\"479.61\" y2=\"71.274\" stroke-linecap=\"round\" style=\"stroke:green;stroke-width:4\"/><line x1=\"479.61\" y1=\"71.274\" x2=\"479.61\" y2=\"91.274\" stroke-linecap=\"round\" style=\"stroke:green;stroke-width:4\"/><line x1=\"479.61\" y1=\"91.274\" x2=\"465.929\" y2=\"128.862\" stroke-linecap=\"round\" style=\"stroke:green;stroke-width:4\"/><line x1=\"465.929\" y1=\"128.862\" x2=\"427.362\" y2=\"174.825\" stroke-linecap=\"round\" style=\"stroke:green;stroke-width:4\"/><line x1=\"427.362\" y1=\"174.825\" x2=\"427.362\" y2=\"114.825\" stroke-linecap=\"round\" style=\"stroke:green;stroke-width:4\"/><line x1=\"427.362\" y1=\"114.825\" x2=\"441.043\" y2=\"77.237\" stroke-linecap=\"round\" style=\"stroke:green;stroke-width:4\"/><line x1=\"441.043\" y1=\"77.237\" x2=\"453.899\" y2=\"61.916\" stroke-linecap=\"round\" style=\"stroke:green;stroke-width:4\"/><line x1=\"453.899\" y1=\"61.916\" x2=\"441.043\" y2=\"77.237\" stroke-linecap=\"round\" style=\"stroke:green;stroke-width:4\"/><line x1=\"441.043\" y1=\"77.237\" x2=\"441.043\" y2=\"57.237\" stroke-linecap=\"round\" style=\"stroke:green;stroke-width:4\"/><line x1=\"441.043\" y1=\"57.237\" x2=\"441.043\" y2=\"77.237\" stroke-linecap=\"round\" style=\"stroke:green;stroke-width:4\"/><line x1=\"441.043\" y1=\"77.237\" x2=\"427.362\" y2=\"114.825\" stroke-linecap=\"round\" style=\"stroke:green;stroke-width:4\"/><line x1=\"427.362\" y1=\"114.825\" x2=\"413.681\" y2=\"77.237\" stroke-linecap=\"round\" style=\"stroke:green;stroke-width:4\"/><line x1=\"413.681\" y1=\"77.237\" x2=\"413.681\" y2=\"57.237\" stroke-linecap=\"round\" style=\"stroke:green;stroke-width:4\"/><line x1=\"413.681\" y1=\"57.237\" x2=\"413.681\" y2=\"77.237\" stroke-linecap=\"round\" style=\"stroke:green;stroke-width:4\"/><line x1=\"413.681\" y1=\"77.237\" x2=\"400.825\" y2=\"61.916\" stroke-linecap=\"round\" style=\"stroke:green;stroke-width:4\"/><line x1=\"400.825\" y1=\"61.916\" x2=\"413.681\" y2=\"77.237\" stroke-linecap=\"round\" style=\"stroke:green;stroke-width:4\"/><line x1=\"413.681\" y1=\"77.237\" x2=\"427.362\" y2=\"114.825\" stroke-linecap=\"round\" style=\"stroke:green;stroke-width:4\"/><line x1=\"427.362\" y1=\"114.825\" x2=\"427.362\" y2=\"174.825\" stroke-linecap=\"round\" style=\"stroke:green;stroke-width:4\"/><line x1=\"427.362\" y1=\"174.825\" x2=\"400.0\" y2=\"250.0\" stroke-linecap=\"round\" style=\"stroke:green;stroke-width:4\"/><line x1=\"400.0\" y1=\"250.0\" x2=\"372.638\" y2=\"174.825\" stroke-linecap=\"round\" style=\"stroke:green;stroke-width:4\"/><line x1=\"372.638\" y1=\"174.825\" x2=\"372.638\" y2=\"114.825\" stroke-linecap=\"round\" style=\"stroke:green;stroke-width:4\"/><line x1=\"372.638\" y1=\"114.825\" x2=\"386.319\" y2=\"77.237\" stroke-linecap=\"round\" style=\"stroke:green;stroke-width:4\"/><line x1=\"386.319\" y1=\"77.237\" x2=\"399.175\" y2=\"61.916\" stroke-linecap=\"round\" style=\"stroke:green;stroke-width:4\"/><line x1=\"399.175\" y1=\"61.916\" x2=\"386.319\" y2=\"77.237\" stroke-linecap=\"round\" style=\"stroke:green;stroke-width:4\"/><line x1=\"386.319\" y1=\"77.237\" x2=\"386.319\" y2=\"57.237\" stroke-linecap=\"round\" style=\"stroke:green;stroke-width:4\"/><line x1=\"386.319\" y1=\"57.237\" x2=\"386.319\" y2=\"77.237\" stroke-linecap=\"round\" style=\"stroke:green;stroke-width:4\"/><line x1=\"386.319\" y1=\"77.237\" x2=\"372.638\" y2=\"114.825\" stroke-linecap=\"round\" style=\"stroke:green;stroke-width:4\"/><line x1=\"372.638\" y1=\"114.825\" x2=\"358.957\" y2=\"77.237\" stroke-linecap=\"round\" style=\"stroke:green;stroke-width:4\"/><line x1=\"358.957\" y1=\"77.237\" x2=\"358.957\" y2=\"57.237\" stroke-linecap=\"round\" style=\"stroke:green;stroke-width:4\"/><line x1=\"358.957\" y1=\"57.237\" x2=\"358.957\" y2=\"77.237\" stroke-linecap=\"round\" style=\"stroke:green;stroke-width:4\"/><line x1=\"358.957\" y1=\"77.237\" x2=\"346.101\" y2=\"61.916\" stroke-linecap=\"round\" style=\"stroke:green;stroke-width:4\"/><line x1=\"346.101\" y1=\"61.916\" x2=\"358.957\" y2=\"77.237\" stroke-linecap=\"round\" style=\"stroke:green;stroke-width:4\"/><line x1=\"358.957\" y1=\"77.237\" x2=\"372.638\" y2=\"114.825\" stroke-linecap=\"round\" style=\"stroke:green;stroke-width:4\"/><line x1=\"372.638\" y1=\"114.825\" x2=\"372.638\" y2=\"174.825\" stroke-linecap=\"round\" style=\"stroke:green;stroke-width:4\"/><line x1=\"372.638\" y1=\"174.825\" x2=\"334.071\" y2=\"128.862\" stroke-linecap=\"round\" style=\"stroke:green;stroke-width:4\"/><line x1=\"334.071\" y1=\"128.862\" x2=\"320.39\" y2=\"91.274\" stroke-linecap=\"round\" style=\"stroke:green;stroke-width:4\"/><line x1=\"320.39\" y1=\"91.274\" x2=\"320.39\" y2=\"71.274\" stroke-linecap=\"round\" style=\"stroke:green;stroke-width:4\"/><line x1=\"320.39\" y1=\"71.274\" x2=\"320.39\" y2=\"91.274\" stroke-linecap=\"round\" style=\"stroke:green;stroke-width:4\"/><line x1=\"320.39\" y1=\"91.274\" x2=\"307.534\" y2=\"75.953\" stroke-linecap=\"round\" style=\"stroke:green;stroke-width:4\"/><line x1=\"307.534\" y1=\"75.953\" x2=\"320.39\" y2=\"91.274\" stroke-linecap=\"round\" style=\"stroke:green;stroke-width:4\"/><line x1=\"320.39\" y1=\"91.274\" x2=\"334.071\" y2=\"128.862\" stroke-linecap=\"round\" style=\"stroke:green;stroke-width:4\"/><line x1=\"334.071\" y1=\"128.862\" x2=\"299.43\" y2=\"108.862\" stroke-linecap=\"round\" style=\"stroke:green;stroke-width:4\"/><line x1=\"299.43\" y1=\"108.862\" x2=\"286.574\" y2=\"93.541\" stroke-linecap=\"round\" style=\"stroke:green;stroke-width:4\"/><line x1=\"286.574\" y1=\"93.541\" x2=\"299.43\" y2=\"108.862\" stroke-linecap=\"round\" style=\"stroke:green;stroke-width:4\"/><line x1=\"299.43\" y1=\"108.862\" x2=\"279.734\" y2=\"105.389\" stroke-linecap=\"round\" style=\"stroke:green;stroke-width:4\"/><line x1=\"279.734\" y1=\"105.389\" x2=\"299.43\" y2=\"108.862\" stroke-linecap=\"round\" style=\"stroke:green;stroke-width:4\"/><line x1=\"299.43\" y1=\"108.862\" x2=\"334.071\" y2=\"128.862\" stroke-linecap=\"round\" style=\"stroke:green;stroke-width:4\"/><line x1=\"334.071\" y1=\"128.862\" x2=\"372.638\" y2=\"174.825\" stroke-linecap=\"round\" style=\"stroke:green;stroke-width:4\"/><line x1=\"372.638\" y1=\"174.825\" x2=\"400.0\" y2=\"250.0\" stroke-linecap=\"round\" style=\"stroke:green;stroke-width:4\"/><line x1=\"400.0\" y1=\"250.0\" x2=\"400.0\" y2=\"350.0\" stroke-linecap=\"round\" style=\"stroke:green;stroke-width:4\"/>\n",
       "        <g visibility=visible transform=\"rotate(360,400.0,350.0) translate(382.0, 332.0)\">\n",
       "<path style=\" stroke:none;fill-rule:evenodd;fill:green;fill-opacity:1;\" d=\"M 18.214844 0.632812 C 16.109375 1.800781 15.011719 4.074219 15.074219 7.132812 L 15.085938 7.652344 L 14.785156 7.496094 C 13.476562 6.824219 11.957031 6.671875 10.40625 7.066406 C 8.46875 7.550781 6.515625 9.15625 4.394531 11.992188 C 3.0625 13.777344 2.679688 14.636719 3.042969 15.027344 L 3.15625 15.152344 L 3.519531 15.152344 C 4.238281 15.152344 4.828125 14.886719 8.1875 13.039062 C 9.386719 12.378906 10.371094 11.839844 10.378906 11.839844 C 10.386719 11.839844 10.355469 11.929688 10.304688 12.035156 C 9.832031 13.09375 9.257812 14.820312 8.96875 16.078125 C 7.914062 20.652344 8.617188 24.53125 11.070312 27.660156 C 11.351562 28.015625 11.363281 27.914062 10.972656 28.382812 C 8.925781 30.84375 7.945312 33.28125 8.238281 35.1875 C 8.289062 35.527344 8.28125 35.523438 8.917969 35.523438 C 10.941406 35.523438 13.074219 34.207031 15.136719 31.6875 C 15.359375 31.417969 15.328125 31.425781 15.5625 31.574219 C 16.292969 32.042969 18.023438 32.964844 18.175781 32.964844 C 18.335938 32.964844 19.941406 32.210938 20.828125 31.71875 C 20.996094 31.625 21.136719 31.554688 21.136719 31.558594 C 21.203125 31.664062 21.898438 32.414062 22.222656 32.730469 C 23.835938 34.300781 25.5625 35.132812 27.582031 35.300781 C 27.90625 35.328125 27.9375 35.308594 28.007812 34.984375 C 28.382812 33.242188 27.625 30.925781 25.863281 28.425781 L 25.542969 27.96875 L 25.699219 27.785156 C 28.945312 23.960938 29.132812 18.699219 26.257812 11.96875 L 26.207031 11.84375 L 27.945312 12.703125 C 31.53125 14.476562 32.316406 14.800781 33.03125 14.800781 C 33.976562 14.800781 33.78125 13.9375 32.472656 12.292969 C 28.519531 7.355469 25.394531 5.925781 21.921875 7.472656 L 21.558594 7.636719 L 21.578125 7.542969 C 21.699219 6.992188 21.761719 5.742188 21.699219 5.164062 C 21.496094 3.296875 20.664062 1.964844 19.003906 0.855469 C 18.480469 0.503906 18.457031 0.5 18.214844 0.632812\"/>\n",
       "</g>\n",
       "      </svg>\n",
       "    "
      ],
      "text/plain": [
       "<IPython.core.display.HTML object>"
      ]
     },
     "metadata": {},
     "output_type": "display_data"
    }
   ],
   "source": [
    "from ColabTurtle import Turtle\n",
    "\n",
    "# import turtle\n",
    "# t = turtle.Turtle() # Initialize the turtle\n",
    "\n",
    "def draw_tree(branch_len, t):\n",
    "    \"\"\"\n",
    "    Figure out the tree pattern, then display the recursion tree.\n",
    "    You may have to play/tune with angles/lengths to draw a pretty tree.\n",
    "\n",
    "    :param branch_len: Int -- Length of this branch. Should reduce every recursion. Starting length is 100.\n",
    "    :param t: turtle.Turtle -- Instance of turtle module. We can call turtle functions on this parameter.\n",
    "\n",
    "    :return: Nothing to return\n",
    "    \"\"\"\n",
    "    # Please write your code here.\n",
    "\n",
    "    # t.right(90)\n",
    "    if branch_len <= 10:\n",
    "        return\n",
    "\n",
    "    t.forward(branch_len)\n",
    "    t.right(20)\n",
    "    draw_tree(branch_len - 20, t)\n",
    "    t.left(40)\n",
    "    draw_tree(branch_len - 20, t)\n",
    "    t.right(20)\n",
    "    t.backward(branch_len)\n",
    "\n",
    "    # pass\n",
    "\n",
    "\n",
    "def main():\n",
    "    Turtle.initializeTurtle(initial_speed=5)\n",
    "\n",
    "    # Turtle.left(90)\n",
    "    Turtle.backward(100)\n",
    "    Turtle.color(\"green\")\n",
    "    # Turtle.right(90)\n",
    "\n",
    "    draw_tree(100, Turtle)\n",
    "\n",
    "\n",
    "if __name__ == \"__main__\":\n",
    "    main()"
   ]
  }
 ],
 "metadata": {
  "colab": {
   "provenance": []
  },
  "kernelspec": {
   "display_name": "base",
   "language": "python",
   "name": "python3"
  },
  "language_info": {
   "codemirror_mode": {
    "name": "ipython",
    "version": 3
   },
   "file_extension": ".py",
   "mimetype": "text/x-python",
   "name": "python",
   "nbconvert_exporter": "python",
   "pygments_lexer": "ipython3",
   "version": "3.12.4"
  }
 },
 "nbformat": 4,
 "nbformat_minor": 0
}
