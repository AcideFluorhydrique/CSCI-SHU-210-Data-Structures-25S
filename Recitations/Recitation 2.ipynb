{
 "cells": [
  {
   "cell_type": "markdown",
   "metadata": {
    "id": "jAsf6ODUfNWg"
   },
   "source": [
    "## Data Structures - Recitation 2\n",
    "\n",
    "### Analysis of Algorithms\n",
    "\n",
    "Submit your worksheet according to the schedule for your recitation as outlined on Albert:\n",
    "\n",
    "- **Wednesday Recitation:** Due by Friday, 11:59 PM.\n",
    "- **Thursday Recitation:** Due by Saturday, 11:59 PM.\n",
    "- **Friday Recitation:** Due by Sunday, 11:59 PM.\n",
    "\n",
    "\n",
    "**Important Notes**\n",
    "- Each task must show a reasonable attempt to a solution. \n",
    "- Only solutions submitted in *.ipynb* format are accepted.\n",
    "- Invalid and late submissions are not considered for grading.\n",
    "- You must write your name and NetID (-25 points in violation).\n",
    "\n",
    "Name: \n",
    "\n",
    "NetID: "
   ]
  },
  {
   "cell_type": "markdown",
   "metadata": {},
   "source": [
    "# Learning Outcomes\n",
    "\n",
    "In this recitation, you will learn about the following topics:\n",
    "1. **Algorithm Analysis:** Understand how to analyze the time complexity of algorithms.\n",
    "2. **Binary Search:** Utilize the binary search algorithm to find a target value within a sorted array.\n",
    "3. **Coding Practice:** Write functions that align with given time complexity requirements."
   ]
  },
  {
   "cell_type": "markdown",
   "metadata": {
    "id": "Wn5VeKQQfNXG"
   },
   "source": [
    "# Task 1 - Theory"
   ]
  },
  {
   "cell_type": "markdown",
   "metadata": {
    "id": "cEUUAPvefNXI"
   },
   "source": [
    "\"\"\"\n",
    "Given functions f(n) and g(n), we say that\n",
    "f(n) is O(g(n))\n",
    "if there exist positive constants c and n_0 such that\n",
    "f(n) ≤ cg(n) for all n ≥ n_0\n",
    "\"\"\"\n",
    "\n",
    "\n",
    "\n",
    "\n",
    "\n",
    "\n",
    "1. Prove that running time $T(n) = n^{2} + 20n + 1$ is $O( n^{2} )$\n",
    "\n",
    "**Answer:**\n",
    "\n",
    "*Hint*: You can write a formal proof as seen in the lecture or use a counterexample.\n",
    "\n",
    "Let c = 22 and n_0 = 1\n",
    "Then T(n) = n^2 + 20n + 1 ≤ cn^2 = 22n^2 for all n ≥ n_0 = 1\n",
    "\n",
    "Therefore, T(n) = n^2 + 20n + 1 is O(n^2)"
   ]
  },
  {
   "cell_type": "markdown",
   "metadata": {
    "id": "55qnusUDfNXW"
   },
   "source": [
    "2. Prove that running time $T(n) = n^{2} + 20n + 1$ is not $O( n )$\n",
    "\n",
    "**Answer:**\n",
    "\n",
    "*Hint*: You can write a formal proof as seen in the lecture or use a counterexample.\n",
    "\n",
    "For ∀ c>0 and n_0, there always exists n_1 = ⌈c⌉ * n_0, \n",
    "s.t. (n_1)^2 + 20n_1 + 1 > cn_1.\n",
    "\n"
   ]
  },
  {
   "cell_type": "markdown",
   "metadata": {
    "id": "kGwz4RoxfNXm"
   },
   "source": [
    "# Task 2 - Code Analysis\n",
    "\n",
    "Determine the worst case big O runtime for each of the following code fragments."
   ]
  },
  {
   "cell_type": "code",
   "execution_count": 1,
   "metadata": {
    "id": "w_psdpkefNXs"
   },
   "outputs": [],
   "source": [
    "def func1(n):\n",
    "    for i in range(n):\n",
    "        for j in range(n, 0, -2):\n",
    "            print(\"Hello Students!\")"
   ]
  },
  {
   "cell_type": "markdown",
   "metadata": {},
   "source": [
    "What is the tightest big O notation for the function *func1*?\n",
    "\n",
    "**Answer:**  O(n^2)"
   ]
  },
  {
   "cell_type": "code",
   "execution_count": 2,
   "metadata": {
    "id": "-_EWOiu9fNXw"
   },
   "outputs": [],
   "source": [
    "def func2(n):\n",
    "    for i in range(n):\n",
    "        for j in range(n, 0, -2):\n",
    "            print(\"Hello Students!\")\n",
    "\n",
    "    x = 0\n",
    "    while x < n:\n",
    "        x += 1\n",
    "        print(\"How are you doing?\")"
   ]
  },
  {
   "cell_type": "markdown",
   "metadata": {},
   "source": [
    "What is the tightest big O notation for the function *func2*?\n",
    "\n",
    "**Answer:**  O(n^2)"
   ]
  },
  {
   "cell_type": "code",
   "execution_count": 3,
   "metadata": {
    "id": "bvSQ5wsqfNXy"
   },
   "outputs": [],
   "source": [
    "def func3(n):\n",
    "    i = 0\n",
    "    while i < n:\n",
    "        j = n\n",
    "        while j > 0:\n",
    "            j //= 2\n",
    "            print(\"Wow!\")\n",
    "        i += 1"
   ]
  },
  {
   "cell_type": "markdown",
   "metadata": {},
   "source": [
    "What is the tightest big O notation for the function *func3*?\n",
    "\n",
    "**Answer:**  O(nlogn)"
   ]
  },
  {
   "cell_type": "markdown",
   "metadata": {
    "id": "RarEZprQfNX1"
   },
   "source": [
    "# Task 3 - Egg-Throw\n",
    "\n",
    "You're tasked with testing the durability of eggs by dropping them from different floors of a building. The challenge lies in finding the highest floor from which an egg can be dropped without breaking. This floor, denoted as F, is within the range of the building's N floors, ensuring that it always exists."
   ]
  },
  {
   "cell_type": "markdown",
   "metadata": {
    "id": "s0Iduw7jfNX2"
   },
   "source": [
    "1. Describe a strategy to determine the value of *F* such that the number of throws is at most *log<sub>2</sub> n*.\n",
    "\n",
    "**Answer:**  Very similar with binary search. We can start at the N//2 th floor and test whether the egg breaks or not. If it breaks, move to the lowers floors and test the middle floor, elif it doesn't break, move to the higher floors and test the middle floor. Use this strategy until we find F.\n",
    "\n",
    "*Hint*: You can describe the strategy in either words or code."
   ]
  },
  {
   "cell_type": "markdown",
   "metadata": {
    "id": "Sd3rEIzefNX4"
   },
   "source": [
    "2. Find a new strategy to reduce the number of throws to at most *2 log<sub>2</sub> F*. (optional)\n",
    "\n",
    "**Answer:** We can start at the highest, i.e. Nth floor and if it breaks, we test at N//2, and so on. Then, we can have a smaller range of the F, then use binary search introduced in (1) to find F.\n",
    "\n",
    "*Hint*: You can describe the strategy in either words or code."
   ]
  },
  {
   "cell_type": "markdown",
   "metadata": {
    "id": "sC2D8AcvfNX6"
   },
   "source": [
    "# Task 4 - Prime Number\n",
    "\n",
    "A number is said to be prime if it is divisible by 1 and itself only, not by any third variable. The following are the descriptions of two algorithms for deciding whether a number is a prime or not. Please implement the two algorithms *is_prime1* and *is_prime2* by yourself.\n",
    "\n",
    "1. Divide **N** by every number from **2** to **N - 1**, if it is not divisible by any of them, hence it is a prime.\n",
    "2. Instead of checking until **N**, we can check until $\\sqrt{N}$ because a larger factor of **N** must be a multiple of smaller factor that has been already checked."
   ]
  },
  {
   "cell_type": "code",
   "execution_count": null,
   "metadata": {
    "colab": {
     "base_uri": "https://localhost:8080/"
    },
    "id": "SWUDEeSofNX8",
    "outputId": "c98cb8f5-78e1-4e22-9b60-fdd466ea5849"
   },
   "outputs": [
    {
     "name": "stdout",
     "output_type": "stream",
     "text": [
      "All tests passed successfully!\n"
     ]
    }
   ],
   "source": [
    "def is_prime1(n):\n",
    "    \"\"\"\n",
    "    Divide n by every number from 2 to n - 1.\n",
    "\n",
    "    :param n: The number being checked.\n",
    "    :return: True, if n is a prime number, return False otherwise.\n",
    "    \"\"\"\n",
    "\n",
    "    # Please write your code here.\n",
    "    for i in range(2, n):\n",
    "        if n % i == 0:\n",
    "            return False\n",
    "    return True\n",
    "\n",
    "    # pass\n",
    "\n",
    "\n",
    "def main():\n",
    "    assert is_prime1(1299827) == True, \"1299827 should be a prime but you returned False.\"\n",
    "    assert is_prime1(1296041) == True, \"1296041 should be a prime but you returned False.\"\n",
    "    assert is_prime1(1296042) == False, \"1296042 should not be a prime but you returned True.\"\n",
    "\n",
    "    print(\"All tests passed successfully!\")\n",
    "\n",
    "\n",
    "if __name__ == '__main__':\n",
    "    main()"
   ]
  },
  {
   "cell_type": "markdown",
   "metadata": {
    "id": "bpGjoU8kfNX_"
   },
   "source": [
    "What is the worst case runtime for *is_prime1*?\n",
    "\n",
    "**Answer:** O(n)"
   ]
  },
  {
   "cell_type": "code",
   "execution_count": null,
   "metadata": {
    "colab": {
     "base_uri": "https://localhost:8080/"
    },
    "id": "LbkcDRbUfNYB",
    "outputId": "d51aeea0-256b-4468-c498-61315e39f8fa"
   },
   "outputs": [
    {
     "name": "stdout",
     "output_type": "stream",
     "text": [
      "All tests passed successfully!\n",
      "10.0\n"
     ]
    }
   ],
   "source": [
    "import math\n",
    "\n",
    "def is_prime2(n):\n",
    "    \"\"\"\n",
    "    Instead of checking until n, we can check until sqrt(n).\n",
    "    A larger factor of n must be a multiple of smaller factor.\n",
    "\n",
    "    :param n: The number being checked.\n",
    "    :return: True, if n is a prime number, return False otherwise.\n",
    "    \"\"\"\n",
    "\n",
    "    # Please write your code here.\n",
    "    for i in range(2, int(math.sqrt(n)) + 1):\n",
    "        if n % i == 0:\n",
    "            return False\n",
    "    return True\n",
    "\n",
    "    # pass\n",
    "\n",
    "\n",
    "def main():\n",
    "    assert is_prime2(1299827) == True, \"1299827 should be a prime but you returned False.\"\n",
    "    assert is_prime2(1296041) == True, \"1296041 should be a prime but you returned False.\"\n",
    "    assert is_prime2(1296042) == False, \"1296042 should not be a prime but you returned True.\"\n",
    "\n",
    "    print(\"All tests passed successfully!\")\n",
    "\n",
    "\n",
    "if __name__ == '__main__':\n",
    "    main()\n"
   ]
  },
  {
   "cell_type": "markdown",
   "metadata": {
    "id": "AKAiNfJlfNYD"
   },
   "source": [
    "What is the worst case runtime for *is_prime2*?\n",
    "\n",
    "**Answer:** O(sqrt(n))"
   ]
  },
  {
   "cell_type": "markdown",
   "metadata": {
    "id": "4qqAOIe_fNYF"
   },
   "source": [
    "# Task 5 - Permutation\n",
    "\n",
    "Suppose you need to generate a random permutation from **0** to **N-1**. For example, **{4, 3, 1, 0, 2}** and **{3, 1, 4, 2, 0}** are legal permutations, but **{0, 4, 1, 2, 1}** is not, because one number **(1)** is duplicated and another **(3)** is missing. This routine is often used in simulation of algorithms. We assume the existence of a random number generator, r, with method `randInt(i, j)`, that generates integers between **i** and **j** (**i** & **j** included) with equal probability. The following are three algorithms. Please implement the three algorithms by yourself and answer the question of the expected runtime for the three algorithms."
   ]
  },
  {
   "cell_type": "markdown",
   "metadata": {
    "id": "RW4NQ360fNYF"
   },
   "source": [
    "1. Create a size **N** empty array (`array = [None] * N`). Fill the array a from **a[0]** to **a[N-1]** as follows: To fill **a[i]**, generate random numbers until you get one that is not yet in **a[0]**, **a[1]**, . . . , **a[i-1]**.\n",
    "\n",
    "2. Same as algorithm **(1)**, but keep an extra array called the used array. When a random number, ran, is first put in the array set `used[ran] = true`. This means that when filling **a[i]** with a random number, you can test in one step to see whether the random number has been used, instead of the (possibly) i steps in the first algorithm.\n",
    "\n",
    "\n",
    "3. Fill the array such that `a[i] = i`. Then: \n",
    "   ```\n",
    "   for i in range(len(array)): \n",
    "        swap( a[i], a[randint(0, i)])\n",
    "    ```"
   ]
  },
  {
   "cell_type": "code",
   "execution_count": 18,
   "metadata": {
    "colab": {
     "base_uri": "https://localhost:8080/",
     "height": 290
    },
    "id": "XGX149ICfNYG",
    "outputId": "b120ded4-a711-439a-afdd-e07858fd7213"
   },
   "outputs": [
    {
     "data": {
      "image/png": "[encoded data removed]",
      "text/plain": [
       "<Figure size 640x480 with 1 Axes>"
      ]
     },
     "metadata": {},
     "output_type": "display_data"
    }
   ],
   "source": [
    "import timeit\n",
    "import matplotlib.pyplot as plt\n",
    "import random\n",
    "\n",
    "\n",
    "def time_function(f, n, repeat=1):\n",
    "    return timeit.timeit(\n",
    "        f.__name__ + '(' + str(n) + ')',\n",
    "        setup=\"from __main__ import \" + f.__name__,\n",
    "        number=repeat\n",
    "    ) / repeat\n",
    "\n",
    "\n",
    "def permutation1(n):\n",
    "    \"\"\"\n",
    "    Generate a random permutation from 0 to n-1.\n",
    "\n",
    "    :param n: The boundary integer.\n",
    "    :return: A list of integers from 0 to n - 1.\n",
    "    \"\"\"\n",
    "\n",
    "    # Please write your code here.\n",
    "    array = [None] * n\n",
    "    for i in range(n):\n",
    "        r = random.randint(0, n - 1)\n",
    "        while r in array:\n",
    "            r = random.randint(0, n - 1)\n",
    "        array[i] = r\n",
    "    return array\n",
    "    # pass\n",
    "\n",
    "\n",
    "def permutation2(n):\n",
    "    \"\"\"\n",
    "    Generate a random permutation from 0 to n-1.\n",
    "\n",
    "    :param n: The boundary integer.\n",
    "    :return: A list of integers from 0 to n - 1.\n",
    "    \"\"\"\n",
    "    # Same as algorithm (1), but keep an extra array called the used array. \n",
    "    # When a random number, ran, is first put in the array set `used[ran] = true`. \n",
    "    # This means that when filling a[i] with a random number, \n",
    "    # you can test in one step to see whether the random number has been used, \n",
    "    # instead of the (possibly) i steps in the first algorithm.\n",
    "\n",
    "    \"\"\"Please write your code here.\"\"\"\n",
    "    array = [None] * n\n",
    "    usedarray = [False] * n\n",
    "    for i in range(n):\n",
    "        r = random.randint(0, n - 1)\n",
    "        while usedarray[r]:\n",
    "            r = random.randint(0, n - 1)\n",
    "        array[i] = r\n",
    "        usedarray[r] = True\n",
    "    return array\n",
    "    # pass\n",
    "\n",
    "\n",
    "def permutation3(n):\n",
    "    \"\"\"\n",
    "    Generate a random permutation from 0 to n-1.\n",
    "\n",
    "    :param n: The boundary integer.\n",
    "    :return: A list of integers from 0 to n - 1.\n",
    "    \"\"\"\n",
    "\n",
    "    # Please write your code here.\n",
    "\n",
    "    array = [_ for _ in range(n)]\n",
    "    for i in range(len(array)): \n",
    "        j = random.randint(0, n - 1)\n",
    "        # 开始swap\n",
    "        array[i], array[j] = array[j], array[i]\n",
    "    return array\n",
    "\n",
    "    # pass\n",
    "\n",
    "\n",
    "def main():\n",
    "    x = [25, 50, 75, 100, 125, 150, 175, 200, 225, 250]\n",
    "    y, z, j = [], [], []\n",
    "\n",
    "    for each in x:\n",
    "        y.append(time_function(permutation1, each))\n",
    "        z.append(time_function(permutation2, each))\n",
    "        j.append(time_function(permutation3, each))\n",
    "\n",
    "    line1, = plt.plot(x, y, label=\"permutation1\")\n",
    "    plt.legend()\n",
    "\n",
    "    line2, = plt.plot(x, z, label=\"permutation2\")\n",
    "    plt.legend()\n",
    "\n",
    "    line3, = plt.plot(x, j, label=\"permutation3\")\n",
    "    plt.legend(handles=[line1, line2, line3])\n",
    "\n",
    "    plt.xlabel(\"Input Size\")\n",
    "    plt.ylabel(\"Run time -- Seconds\")\n",
    "    plt.show()\n",
    "\n",
    "\n",
    "if __name__ == '__main__':\n",
    "    main()"
   ]
  },
  {
   "cell_type": "markdown",
   "metadata": {
    "id": "viObMnMpfNYI"
   },
   "source": [
    "What is the expected worst case runtime for *permutation1*?\n",
    "\n",
    "**Answer:** O(n^2 logn)"
   ]
  },
  {
   "cell_type": "markdown",
   "metadata": {
    "id": "eOglOlm4fNYJ"
   },
   "source": [
    "What is the expected worst case runtime for *permutation2*?\n",
    "\n",
    "**Answer:** O(nlogn)"
   ]
  },
  {
   "cell_type": "markdown",
   "metadata": {
    "id": "3KEH2dlUfNYN"
   },
   "source": [
    "What is the expected worst case runtime for *permutation3*?\n",
    "\n",
    "**Answer:** O(n)"
   ]
  },
  {
   "cell_type": "markdown",
   "metadata": {
    "id": "qTgmtVrGfNYO"
   },
   "source": [
    "Plot the runtime of algorithm 1, 2, 3 using the given *main()* function. What are your observations?\n",
    "\n",
    "**Answer:** algorith 3 is much faster than 1 and 2. algorith 2 is a little better than 1.\n"
   ]
  }
 ],
 "metadata": {
  "colab": {
   "provenance": []
  },
  "kernelspec": {
   "display_name": "base",
   "language": "python",
   "name": "python3"
  },
  "language_info": {
   "codemirror_mode": {
    "name": "ipython",
    "version": 3
   },
   "file_extension": ".py",
   "mimetype": "text/x-python",
   "name": "python",
   "nbconvert_exporter": "python",
   "pygments_lexer": "ipython3",
   "version": "3.12.4"
  }
 },
 "nbformat": 4,
 "nbformat_minor": 0
}
