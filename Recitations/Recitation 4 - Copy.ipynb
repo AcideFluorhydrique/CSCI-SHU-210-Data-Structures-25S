{
 "cells": [
  {
   "cell_type": "markdown",
   "metadata": {
    "id": "vGA3CwVhh1Yz"
   },
   "source": [
    "## Data Structures - Recitation 4\n",
    "\n",
    "### Dynamic Array\n",
    "\n",
    "Submit your worksheet according to the schedule for your recitation as outlined on Albert:\n",
    "\n",
    "- **Wednesday Recitation:** Due by Friday, 11:59 PM.\n",
    "- **Thursday Recitation:** Due by Saturday, 11:59 PM.\n",
    "- **Friday Recitation:** Due by Sunday, 11:59 PM.\n",
    "\n",
    "\n",
    "**Important Notes**\n",
    "- Each task must show a reasonable attempt to a solution. \n",
    "- Only solutions submitted in *.ipynb* format are accepted.\n",
    "- Invalid and late submissions are not considered for grading.\n",
    "- You must write your name and NetID (-25 points in violation).\n",
    "\n",
    "Name: Geo Wang\n",
    "\n",
    "NetID: yw7997"
   ]
  },
  {
   "cell_type": "markdown",
   "metadata": {},
   "source": [
    "# Learning Outcomes\n",
    "\n",
    "In this recitation, you will learn about the following topics:\n",
    "1. **Dynamic Array Implementation:** Learn the underlying principles of dynamic arrays.\n",
    "2. **Amortized Time Complexity:** Understand the concept of amortized time complexity."
   ]
  },
  {
   "cell_type": "markdown",
   "metadata": {
    "id": "vogMVn4BiRg-"
   },
   "source": [
    "# Given Class - UserDefinedDynamicArray\n",
    "\n",
    "View the code below and work on the tasks that follow. Remember to execute the *UserDefinedDynamicArray* class each time after you make changes to it."
   ]
  },
  {
   "cell_type": "code",
   "execution_count": null,
   "metadata": {
    "id": "jy7Dkfk-hjci"
   },
   "outputs": [],
   "source": [
    "import ctypes\n",
    "\n",
    "\n",
    "class UserDefinedDynamicArray:\n",
    "    def __init__(self, I = None):\n",
    "        self._n = 0\n",
    "        # 动态数组中当前存储的元素数量\n",
    "        self._capacity = 1\n",
    "        # 动态数组底层数组（self._A）当前的容量。\n",
    "        self._A = self._make_array(self._capacity)\n",
    "        # 指向动态数组的底层数组，也就是实际存储元素的地方\n",
    "        if I:\n",
    "            self.extend(I)\n",
    "\n",
    "    def __len__(self):\n",
    "        return self._n\n",
    "\n",
    "    def append(self, x):\n",
    "        if self._n == self._capacity:\n",
    "            self._resize(2 * self._capacity)\n",
    "        self._A[self._n] = x\n",
    "        self._n += 1\n",
    "\n",
    "    def _resize(self, newsize):\n",
    "        A = self._make_array(newsize)\n",
    "        self._capacity = newsize\n",
    "        for i in range(self._n):\n",
    "            A[i] = self._A[i]\n",
    "        self._A = A\n",
    "\n",
    "    def _make_array(self, size):\n",
    "        return (size * ctypes.py_object)()\n",
    "\n",
    "    def __getitem__(self, i):\n",
    "        if isinstance(i, slice):\n",
    "            A = UserDefinedDynamicArray()\n",
    "            for j in range(*i.indices(self._n)):\n",
    "                A.append(self._A[j])\n",
    "            return A\n",
    "        if i < 0:\n",
    "            i = self._n + i\n",
    "        return self._A[i]\n",
    "\n",
    "    def __delitem__(self, i):\n",
    "        if isinstance(i, slice):\n",
    "            for j in reversed(range(*i.indices(self._n))):\n",
    "                del self[j]\n",
    "        else:\n",
    "            if i < 0:\n",
    "                i = self._n + i\n",
    "            for j in range(i, self._n - 1):\n",
    "                self._A[j] = self._A[j + 1]\n",
    "            self[-1] = None\n",
    "            self._n -= 1\n",
    "            # Task 8\n",
    "            # Please write your code here.\n",
    "            if self._n < self._capacity // 4:\n",
    "                self._resize(self._capacity // 2)\n",
    "            # pass\n",
    "\n",
    "    def __str__(self):\n",
    "        return \"[\" \\\n",
    "            + \"\".join(str(i) + \",\" for i in self[:-1]) \\\n",
    "            + (str(self[-1]) if not self.is_empty() else \"\") \\\n",
    "            + \"]\"\n",
    "\n",
    "    def is_empty(self):\n",
    "        return self._n == 0\n",
    "\n",
    "    def __iter__(self):\n",
    "        # Task 1\n",
    "        # Please write your code here.\n",
    "        # yield \"Not working, change this\"\n",
    "        for _ in range(self._n):\n",
    "            yield self._A[_]\n",
    "        \"\"\"\n",
    "        在 Python 中，__iter__ 是一个特殊方法（也叫魔法方法或双下划线方法），\n",
    "        它的作用是定义一个对象如何变成可迭代的对象。也就是说，当您在一个对象上使用 for 循环，\n",
    "        或者调用 iter() 函数，或者在需要迭代的场景（比如列表推导式）中使用这个对象时，Python 会调用这个对象的 __iter__ 方法来获取一个迭代器。\n",
    "\n",
    "        在这个 UserDefinedDynamicArray 类中，__iter__ 方法的目的是让这个动态数组类的实例支持迭代功能，\n",
    "        使得用户可以像遍历列表一样遍历这个动态数组中的元素。\n",
    "        \"\"\"\n",
    "\n",
    "    def __setitem__(self, i, x):\n",
    "        # Task 2\n",
    "        # Please write your code here.\n",
    "\n",
    "        if i < 0:\n",
    "            i += self._n\n",
    "        self._A[i] = x\n",
    "        # pass\n",
    "\n",
    "    def extend(self, I):\n",
    "        # Task 3\n",
    "        # Please write your code here.\n",
    "        for _ in I:\n",
    "            self.append(_)\n",
    "        # pass\n",
    "\n",
    "    def reverse(self):\n",
    "        # Task 4\n",
    "        # Please write your code here.\n",
    "        \n",
    "        for i in range(self._n // 2):\n",
    "        # 交换首尾元素\n",
    "            self._A[i], self._A[self._n - 1 - i] = self._A[self._n - 1 - i], self._A[i]\n",
    "        # pass\n",
    "\n",
    "    def __contains__(self, x):\n",
    "        # Task 5\n",
    "        for _ in self:\n",
    "            if _ == x: return True\n",
    "        return False\n",
    "        # pass\n",
    "\n",
    "    def index(self, x):\n",
    "        # Task 5\n",
    "        # Please write your code here.\n",
    "        ind = 0\n",
    "        for i in self:\n",
    "            if i == x:\n",
    "                return ind\n",
    "            ind += 1\n",
    "        return None\n",
    "        # pass\n",
    "\n",
    "    def count(self, x):\n",
    "        # Task 5\n",
    "        # Please write your code here.\n",
    "        c = 0\n",
    "        for i in self:\n",
    "            if x == i:\n",
    "                c += 1\n",
    "        return c\n",
    "        # pass\n",
    "\n",
    "    def __add__(self, other):\n",
    "        # Task 6\n",
    "        # Please write your code here.\n",
    "        temp = UserDefinedDynamicArray(self)\n",
    "        temp.extend(other)\n",
    "        return temp\n",
    "        pass\n",
    "\n",
    "    def __mul__(self, times):\n",
    "        # Task 6\n",
    "        # Please write your code here.\n",
    "        temp = UserDefinedDynamicArray(self)\n",
    "        for _ in range(times):\n",
    "            temp.extend(self)\n",
    "        return temp\n",
    "        # pass\n",
    "\n",
    "    __rmul__ = __mul__\n",
    "\n",
    "    def pop(self, i =- 1):\n",
    "        # Task 7\n",
    "        # Please write your code here.\n",
    "        popresult = self[i]\n",
    "        del self[i]\n",
    "        return popresult\n",
    "        # pass\n",
    "\n",
    "    def remove(self, x):\n",
    "        # Task 7\n",
    "        # Please write your code here.\n",
    "        for _ in range(self.__len__()):\n",
    "            if self[_] == x:\n",
    "                del self[_]\n",
    "                return\n",
    "            \n",
    "        # pass\n",
    "\n",
    "    def max(self):\n",
    "        # Task 9\n",
    "        # Please write your code here.\n",
    "        temp = float(\"-inf\")\n",
    "        for _ in self:\n",
    "            if _ > temp:\n",
    "                temp = _\n",
    "        return temp\n",
    "        # pass\n",
    "\n",
    "    def min(self):\n",
    "        # Task 9\n",
    "        # Please write your code here.\n",
    "        temp = float(\"inf\")\n",
    "        for _ in self:\n",
    "            if _ < temp:\n",
    "                temp = _\n",
    "        return temp\n",
    "        # pass\n",
    "\n",
    "    def sort(self, order = \"asc\"):\n",
    "        # Task 10\n",
    "        # Please write your code here.\n",
    "        if order == \"asc\":\n",
    "            for j in range(1, self._n):\n",
    "                k = self._A[j]\n",
    "                i = j - 1\n",
    "                while ((i > -1) and \n",
    "                       k < self._A[i]\n",
    "                       ):\n",
    "                    self._A[i + 1] = self._A[i]\n",
    "                    i = i - 1\n",
    "                self._A[i + 1] = k\n",
    "        else:\n",
    "            for j in range(1, self._n):\n",
    "                k = self._A[j]\n",
    "                i = j - 1\n",
    "                while ((i > -1) and \n",
    "                       k > self._A[i]\n",
    "                       ):\n",
    "                    self._A[i + 1] = self._A[i]\n",
    "                    i = i - 1\n",
    "                self._A[i + 1] = k\n",
    "        pass"
   ]
  },
  {
   "cell_type": "markdown",
   "metadata": {
    "id": "hdWHC-UciPfR"
   },
   "source": [
    "# Task 1 - Print the Lists\n",
    "\n",
    "Create two empty list *my_list1* and *my_list2*, append some elements and print it. You need to implement **\\_\\_len\\_\\_** and **\\_\\_iter\\_\\_** methods in the *UserDefinedDynamicArray* class."
   ]
  },
  {
   "cell_type": "code",
   "execution_count": 127,
   "metadata": {
    "colab": {
     "base_uri": "https://localhost:8080/"
    },
    "id": "2Otarcpzi36s",
    "outputId": "27a5b375-6c65-4456-9d4b-5841d816383e"
   },
   "outputs": [
    {
     "name": "stdout",
     "output_type": "stream",
     "text": [
      "my_list1:  []\n",
      "my_list1 after appending 3:  [3]\n",
      "my_list2:  [20,40,60,80,100,120,140,160,180,200]\n"
     ]
    }
   ],
   "source": [
    "def main():\n",
    "    global my_list1, my_list2\n",
    "\n",
    "    my_list1 = UserDefinedDynamicArray()\n",
    "    print(\"my_list1: \", my_list1)\n",
    "    my_list1.append(3)\n",
    "    print(\"my_list1 after appending 3: \", my_list1)\n",
    "\n",
    "    my_list2 = UserDefinedDynamicArray()\n",
    "    for i in range(10):\n",
    "        my_list2.append((i + 1) * 20)\n",
    "    print(\"my_list2: \", my_list2)\n",
    "\n",
    "\n",
    "if __name__ == \"__main__\":\n",
    "    main()"
   ]
  },
  {
   "cell_type": "markdown",
   "metadata": {
    "id": "b0onM3uXjIdV"
   },
   "source": [
    "#  Task 2 - Delete Elements\n",
    "\n",
    "**\\_\\_delitem\\_\\_** method is already given but you need to write __setitem__ method to make it run.\n",
    "\n",
    "Suppose we want to delete 2nd, third, and fourth elements from my_list2 by as follows. This will give you an error as **\\_\\_setitem\\_\\_** method needs to be complete\n"
   ]
  },
  {
   "cell_type": "code",
   "execution_count": 128,
   "metadata": {
    "colab": {
     "base_uri": "https://localhost:8080/"
    },
    "id": "SrFXD09ZjRoP",
    "outputId": "d3767a54-6b1f-448c-bc11-8efab9f8260e"
   },
   "outputs": [
    {
     "name": "stdout",
     "output_type": "stream",
     "text": [
      "my_list2 after deleting index 2,3,4 :  [20,40,120,140,160,180,200]\n"
     ]
    }
   ],
   "source": [
    "def main():\n",
    "    del my_list2[2:5]\n",
    "    print(\"my_list2 after deleting index 2,3,4 : \", my_list2)\n",
    "    for i in range(3):\n",
    "        my_list2.append((i + 1) * 200)\n",
    "\n",
    "\n",
    "if __name__ == \"__main__\":\n",
    "    main()"
   ]
  },
  {
   "cell_type": "markdown",
   "metadata": {
    "id": "mzfSiCy1jYNt"
   },
   "source": [
    "#  Task 3 - Extending\n",
    "\n",
    "Suppose we want to use extend my_list1 by adding all the elements in my_list2 by calling the *extend(self, I)* function in the UserDefinedDynamicArray Class\n"
   ]
  },
  {
   "cell_type": "code",
   "execution_count": 129,
   "metadata": {
    "colab": {
     "base_uri": "https://localhost:8080/"
    },
    "id": "-beLD7U5jj8w",
    "outputId": "41d41ce9-b33d-4a00-fd9c-d33e1217bdf2"
   },
   "outputs": [
    {
     "name": "stdout",
     "output_type": "stream",
     "text": [
      "my_list1 after extending:  [3,20,40,120,140,160,180,200,200,400,600]\n"
     ]
    }
   ],
   "source": [
    "def main():\n",
    "    my_list1.extend(my_list2)\n",
    "    print(\"my_list1 after extending: \", my_list1)\n",
    "\n",
    "\n",
    "if __name__ == \"__main__\":\n",
    "    main()"
   ]
  },
  {
   "cell_type": "markdown",
   "metadata": {
    "id": "S3BZPTwkjmyn"
   },
   "source": [
    "# Task 4 - Reversing\n",
    "\n",
    "The reverse function will reverse the list."
   ]
  },
  {
   "cell_type": "code",
   "execution_count": 130,
   "metadata": {
    "colab": {
     "base_uri": "https://localhost:8080/"
    },
    "id": "g4WPAV2xjpwm",
    "outputId": "6f63129e-b251-4bd9-f72b-59e065154cf6"
   },
   "outputs": [
    {
     "name": "stdout",
     "output_type": "stream",
     "text": [
      "my_list2 after reversing:  [600,400,200,200,180,160,140,120,40,20]\n"
     ]
    }
   ],
   "source": [
    "def main():\n",
    "    my_list2.reverse()\n",
    "    print(\"my_list2 after reversing: \", my_list2)\n",
    "\n",
    "\n",
    "if __name__ == \"__main__\":\n",
    "    main()"
   ]
  },
  {
   "cell_type": "markdown",
   "metadata": {
    "id": "PjdjuYy9jzJW"
   },
   "source": [
    "#  Task 5 - Contains and Index\n",
    "\n",
    "1. The **\\_\\_contains\\_\\_** function will check whether element x is present in the list. If yes return true, otherwise false.\n",
    "2. The **index()** function will return the index of element x in the list. If x is present multiple times, it will return the first index of x, otherwise it will return None.\n",
    "3. The **count()** will return how many times element x is present in the list. If the element x is not present, it will return 0."
   ]
  },
  {
   "cell_type": "code",
   "execution_count": 131,
   "metadata": {
    "colab": {
     "base_uri": "https://localhost:8080/"
    },
    "id": "5rUQarTMkOEq",
    "outputId": "be974b18-e111-4dd4-d77a-6c33184c6fbf"
   },
   "outputs": [
    {
     "name": "stdout",
     "output_type": "stream",
     "text": [
      "Value of x is:  140\n",
      "Whether x is present in the my_list1:  True\n",
      "x current position in the my_list1 is  4\n",
      "Number of times x appears in the my_list1 is  1\n"
     ]
    }
   ],
   "source": [
    "def main():\n",
    "    x = 140\n",
    "    print(\"Value of x is: \", x)\n",
    "    print(\"Whether x is present in the my_list1: \", x in my_list1)  #contains function check\n",
    "    print(\"x current position in the my_list1 is \", my_list1.index(x))\n",
    "    print(\"Number of times x appears in the my_list1 is \", my_list1.count(x))\n",
    "\n",
    "\n",
    "if __name__ == \"__main__\":\n",
    "    main()"
   ]
  },
  {
   "cell_type": "markdown",
   "metadata": {
    "id": "OW_5_BvskVkX"
   },
   "source": [
    "# Task 6 - Add and Mul\n",
    "\n",
    "1. The **\\_\\_add\\_\\_** function will implement \\'\\+\\' operator overloading for the UserDefinedDynamicArray Class. **my_list1+my_list2** will return a list containing all the elements of my_list1 and then my_list2\n",
    "\n",
    "2. The **\\_\\_mul\\_\\_** function will implement \\'\\*\\' operator overloading for the UserDefinedDynamicArray Class. **my_list1\\*3** will return a list having my_list1 elements three times.\n",
    "    "
   ]
  },
  {
   "cell_type": "code",
   "execution_count": 132,
   "metadata": {
    "colab": {
     "base_uri": "https://localhost:8080/"
    },
    "id": "-gQMe0PikrFP",
    "outputId": "d9596414-1f33-490c-f150-1878d0102f4b"
   },
   "outputs": [
    {
     "name": "stdout",
     "output_type": "stream",
     "text": [
      "my_list3 after adding :  [3,20,40,120,140,160,180,200,200,400,600,600,400,200,200,180,160,140,120,40,20]\n",
      "my_list4 after multiplying :  [3,20,40,120,140,160,180,200,200,400,600,3,20,40,120,140,160,180,200,200,400,600,3,20,40,120,140,160,180,200,200,400,600]\n"
     ]
    }
   ],
   "source": [
    "def main():\n",
    "    my_list3 = my_list1 + my_list2\n",
    "    print(\"my_list3 after adding : \", my_list3)\n",
    "    my_list4 = 2 * my_list1\n",
    "    print(\"my_list4 after multiplying : \", my_list4)\n",
    "\n",
    "\n",
    "if __name__ == \"__main__\":\n",
    "    main()"
   ]
  },
  {
   "cell_type": "markdown",
   "metadata": {
    "id": "R3Jj97lSkyiq"
   },
   "source": [
    "# Task 7 - Pop and Remove\n",
    "\n",
    "1. The **pop()** function will return the last element from the list and delete that element using del keyword. If *i* is specified, we will delete the element at position *i* and return it to the calling method.\n",
    "2. The **remove(x)** function will delete the element *x* from the list. If *x* is present multiple time, it will delete the first occurrence of *x*.\n",
    "  "
   ]
  },
  {
   "cell_type": "code",
   "execution_count": 133,
   "metadata": {
    "colab": {
     "base_uri": "https://localhost:8080/"
    },
    "id": "keTUM03GlK1v",
    "outputId": "e7ce46ba-1c39-4661-9411-d218507a1e62"
   },
   "outputs": [
    {
     "name": "stdout",
     "output_type": "stream",
     "text": [
      "Popped element at position 1 from my_list2  400\n",
      "my_list1 after removing:  [3,20,40,120,160,180,200,200,400,600]\n"
     ]
    }
   ],
   "source": [
    "def main():\n",
    "    p = my_list2.pop(1)\n",
    "    print(\"Popped element at position 1 from my_list2 \", p)\n",
    "    my_list1.remove(140)\n",
    "    print(\"my_list1 after removing: \", my_list1)\n",
    "\n",
    "\n",
    "if __name__ == \"__main__\":\n",
    "    main()"
   ]
  },
  {
   "cell_type": "markdown",
   "metadata": {
    "id": "M1MfBF1elOYb"
   },
   "source": [
    "# Task 8 - Delitem\n",
    "\n",
    "The current **\\_\\_delitem\\_\\_(self, i)** function does not shrink the array capacity. We want to shrink the array capacity by half if the total number of elements reduces to one fourth of the capacity."
   ]
  },
  {
   "cell_type": "code",
   "execution_count": 134,
   "metadata": {
    "colab": {
     "base_uri": "https://localhost:8080/"
    },
    "id": "q40omUPrlySI",
    "outputId": "ee7770aa-bcd1-46c7-c263-6fe4726b470a"
   },
   "outputs": [
    {
     "name": "stdout",
     "output_type": "stream",
     "text": [
      "[600,200,200,180,160,140,120,40,20] capacity: 16\n",
      "[40,20] capacity: 8\n"
     ]
    }
   ],
   "source": [
    "def main():\n",
    "    print(my_list2, \"capacity:\", my_list2._capacity)\n",
    "    for i in range(7):\n",
    "        del my_list2[0]\n",
    "    print(my_list2, \"capacity:\", my_list2._capacity)\n",
    "\n",
    "\n",
    "if __name__ == \"__main__\":\n",
    "    main()"
   ]
  },
  {
   "cell_type": "markdown",
   "metadata": {
    "id": "FckBLCDwltXP"
   },
   "source": [
    "# Task 9 - Max and Min\n",
    "\n",
    "1. The **max(self)** function which return the maximum element among the elements of *self._A*.\n",
    "2. The **min(self)** function which will return the minimum element among the elements of *self._A*.     "
   ]
  },
  {
   "cell_type": "code",
   "execution_count": 135,
   "metadata": {
    "colab": {
     "base_uri": "https://localhost:8080/"
    },
    "id": "fshpRU3avYOQ",
    "outputId": "88a2ae00-b31d-4e90-c04e-83f43947e5f2"
   },
   "outputs": [
    {
     "name": "stdout",
     "output_type": "stream",
     "text": [
      "Max of list:  40\n",
      "Min of List:  20\n"
     ]
    }
   ],
   "source": [
    "def main():\n",
    "    print(\"Max of list: \", my_list2.max())\n",
    "    print(\"Min of List: \", my_list2.min())\n",
    "\n",
    "\n",
    "if __name__ == \"__main__\":\n",
    "    main()"
   ]
  },
  {
   "cell_type": "markdown",
   "metadata": {
    "id": "51642myvvXiI"
   },
   "source": [
    "# Task 10 - Sort\n",
    "\n",
    "The sort function will sort the list in ascending order by default. If order is specified as desc then it will sort the list in descending order."
   ]
  },
  {
   "cell_type": "code",
   "execution_count": 136,
   "metadata": {
    "colab": {
     "base_uri": "https://localhost:8080/"
    },
    "id": "gBQQinhQvvXn",
    "outputId": "ea1c1656-137b-4c62-c980-23be8538675e"
   },
   "outputs": [
    {
     "name": "stdout",
     "output_type": "stream",
     "text": [
      "After ascending sort:  [1,2,3,4,5,20,40]\n",
      "After descending sort:  [40,20,5,4,3,2,1]\n"
     ]
    }
   ],
   "source": [
    "def main():\n",
    "    for i in range(5, 0, -1):\n",
    "        my_list2.append(i)\n",
    "    my_list2.sort()\n",
    "    print(\"After ascending sort: \", my_list2)\n",
    "    my_list2.sort(order='desc')\n",
    "    print(\"After descending sort: \", my_list2)\n",
    "\n",
    "\n",
    "if __name__ == \"__main__\":\n",
    "    main()"
   ]
  }
 ],
 "metadata": {
  "colab": {
   "provenance": []
  },
  "kernelspec": {
   "display_name": "base",
   "language": "python",
   "name": "python3"
  },
  "language_info": {
   "codemirror_mode": {
    "name": "ipython",
    "version": 3
   },
   "file_extension": ".py",
   "mimetype": "text/x-python",
   "name": "python",
   "nbconvert_exporter": "python",
   "pygments_lexer": "ipython3",
   "version": "3.12.4"
  }
 },
 "nbformat": 4,
 "nbformat_minor": 0
}
