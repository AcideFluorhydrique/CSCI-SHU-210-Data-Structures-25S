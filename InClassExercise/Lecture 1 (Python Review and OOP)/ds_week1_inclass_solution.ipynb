{
  "nbformat": 4,
  "nbformat_minor": 0,
  "metadata": {
    "colab": {
      "name": "ds_week1_inclass_solution.ipynb",
      "provenance": [],
      "collapsed_sections": [
        "uBrOiPUWNshn"
      ]
    },
    "kernelspec": {
      "name": "python3",
      "display_name": "Python 3"
    }
  },
  "cells": [
    {
      "cell_type": "markdown",
      "metadata": {
        "id": "5nTtii7S18Aq"
      },
      "source": [
        "# Data Structures, CSCI-SHU 210\n",
        "# Week 1: Introduction"
      ]
    },
    {
      "cell_type": "markdown",
      "metadata": {
        "id": "BNs0eLyg8lXZ"
      },
      "source": [
        "## Coding question\n",
        "Say you have a list for which the ith element is the price of a given stock on day i.\n",
        "If you were only permitted to complete at most one transaction (ie, buy one and sell one share of the stock), design an algorithm to find the maximum profit."
      ]
    },
    {
      "cell_type": "markdown",
      "metadata": {
        "id": "uBrOiPUWNshn"
      },
      "source": [
        "### Solution 1"
      ]
    },
    {
      "cell_type": "code",
      "metadata": {
        "id": "Qa0Q50YYQMB9",
        "colab": {
          "base_uri": "https://localhost:8080/"
        },
        "outputId": "e61aef49-a04b-42fa-974d-09afb59eec98"
      },
      "source": [
        "def find_max_profit0(lissy):\n",
        "  max_profit = 0\n",
        "  for i in range(len(lissy)):\n",
        "    for j in range(i, len(lissy)):\n",
        "      profit = lissy[j] - lissy[i]\n",
        "      if profit > max_profit:\n",
        "        max_profit = profit\n",
        "  return max_profit\n",
        "  \n",
        "print(find_max_profit0([7,1,5,3,6,4,10]))\n",
        "print(find_max_profit0([7,6,4,3,2,1]))"
      ],
      "execution_count": null,
      "outputs": [
        {
          "output_type": "stream",
          "name": "stdout",
          "text": [
            "9\n",
            "0\n"
          ]
        }
      ]
    },
    {
      "cell_type": "markdown",
      "metadata": {
        "id": "WdLOYtOOS4yU"
      },
      "source": [
        "### Solution 2\n",
        "\n",
        "Idea: Intuitively, we want to buy at a minimum point and sell at a maximum.\n",
        "\n",
        "For example, if we buy at \\$10 on day 1 and the price is \\$15 on day 2. we can immediately eliminate the possiblity to buy on day 2 since the price on day 1 is lower. If the price on day 2 is lower, then buying at the day-2 price may have a potential to yield a better profit compared to the current max profit so far (We need to compare them in a For loop.)\n",
        "\n",
        "Therefore, a single For-loop is sufficient for this problem."
      ]
    },
    {
      "cell_type": "code",
      "metadata": {
        "id": "dfoxqoh75oUG",
        "colab": {
          "base_uri": "https://localhost:8080/"
        },
        "outputId": "30894cb1-ef13-48e0-d90f-d410167b5460"
      },
      "source": [
        "def find_max_profit(price):\n",
        "  buy_price = price[0]\n",
        "  best_buy_price, best_sell_price = buy_price, buy_price\n",
        "  max_profit = 0\n",
        "  for cur_price in price:\n",
        "    cur_profit = cur_price - buy_price\n",
        "    if max_profit < cur_profit:\n",
        "      # update\n",
        "      max_profit = cur_profit\n",
        "      best_buy_price, best_sell_price = buy_price, cur_price\n",
        "    # look for potential minimum price to buy\n",
        "    if cur_price < buy_price:\n",
        "      buy_price = cur_price\n",
        "  return max_profit\n",
        "  \n",
        "print(find_max_profit([7,1,5,3,1,6,4,14]))\n",
        "print(find_max_profit([7,6,5,4,3,2,1]))"
      ],
      "execution_count": null,
      "outputs": [
        {
          "output_type": "stream",
          "name": "stdout",
          "text": [
            "13\n",
            "0\n"
          ]
        }
      ]
    },
    {
      "cell_type": "markdown",
      "metadata": {
        "id": "IBP8bPPd3znF"
      },
      "source": [
        "## Coding question\n",
        "Given an array of integers, every element appears twice except the one. Find that single one."
      ]
    },
    {
      "cell_type": "markdown",
      "metadata": {
        "id": "jvm5JIAaLbFr"
      },
      "source": [
        "### Idea: Use XOR. \n",
        "\n",
        "* XOR of an element twice will give 0. \n",
        "* If an element appears once, it will remain in the output. \n",
        "* XOR is commutative. Permuting the input order does not affect the final result."
      ]
    },
    {
      "cell_type": "code",
      "metadata": {
        "id": "IrMlp651em2L",
        "colab": {
          "base_uri": "https://localhost:8080/"
        },
        "outputId": "df62d345-eb29-4e21-8e15-a2c86d410f2e"
      },
      "source": [
        "data = [7,3,1,5,3,6,4,7,1,5,6,4,100]\n",
        "\n",
        "r = 0\n",
        "for x in data:\n",
        "  r ^= x\n",
        "print(r)"
      ],
      "execution_count": null,
      "outputs": [
        {
          "output_type": "stream",
          "name": "stdout",
          "text": [
            "100\n"
          ]
        }
      ]
    }
  ]
}