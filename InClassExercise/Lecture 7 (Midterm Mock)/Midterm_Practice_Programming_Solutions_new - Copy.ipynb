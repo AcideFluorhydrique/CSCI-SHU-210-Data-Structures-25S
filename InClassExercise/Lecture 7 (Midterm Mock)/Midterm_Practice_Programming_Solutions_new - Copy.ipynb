{
  "nbformat": 4,
  "nbformat_minor": 0,
  "metadata": {
    "colab": {
      "provenance": []
    },
    "kernelspec": {
      "name": "python3",
      "display_name": "Python 3"
    },
    "language_info": {
      "name": "python"
    }
  },
  "cells": [
    {
      "cell_type": "markdown",
      "source": [
        "**Problem 1 - Sum of nested Values**"
      ],
      "metadata": {
        "id": "aprDZJZqYGEA"
      }
    },
    {
      "cell_type": "code",
      "execution_count": 2,
      "metadata": {
        "id": "iBTS1ncNX04f",
        "colab": {
          "base_uri": "https://localhost:8080/"
        },
        "outputId": "d7b83260-0dbc-4369-d6c0-aaa4a4b45eb1"
      },
      "outputs": [
        {
          "output_type": "stream",
          "name": "stdout",
          "text": [
            "19\n"
          ]
        }
      ],
      "source": [
        "def sum(L):\n",
        "    total = 0\n",
        "    for i in L:\n",
        "        if isinstance(i, list):\n",
        "            total += sum(i)\n",
        "        else:\n",
        "            total += i\n",
        "    return total\n",
        "\n",
        "if __name__ == '__main__':\n",
        "    l=[ [1], [2, 3], [4], [3, [2, 4] ] ]\n",
        "    print(sum(l))"
      ]
    },
    {
      "cell_type": "markdown",
      "source": [
        "### Without for-loop"
      ],
      "metadata": {
        "id": "DEPm0K-rhKzo"
      }
    },
    {
      "cell_type": "code",
      "source": [
        "# Solution 1:\n",
        "def sum(L):\n",
        "  return sum_helper(L, 0)\n",
        "\n",
        "def sum_helper(L, i):\n",
        "  if i == len(L):\n",
        "    return 0\n",
        "  if isinstance(L[i], list):\n",
        "    return sum_helper(L[i], 0) + sum_helper(L, i+1)\n",
        "  else:\n",
        "    return L[i] + sum_helper(L, i+1)\n",
        "\n",
        "# Solution 2:\n",
        "def sum2(L):\n",
        "  if len(L) == 0:\n",
        "    return 0\n",
        "  if isinstance(L[0], list):\n",
        "    return sum2(L[0]) + sum2(L[1:])\n",
        "  else:\n",
        "    return L[0] + sum2(L[1:])\n",
        "\n",
        "if __name__ == '__main__':\n",
        "  l = [ [1], [2, 3], [4], [3, [2, 4] ] ]\n",
        "  print(sum(l))\n",
        "  l2 = [ [ [ [1] ], [2] ], [3] ]\n",
        "  print(sum(l2))\n",
        "\n",
        "  # solution 2\n",
        "  print(sum2(l))\n",
        "  print(sum2(l2))\n"
      ],
      "metadata": {
        "colab": {
          "base_uri": "https://localhost:8080/"
        },
        "id": "HNkvKwmahAuR",
        "outputId": "6584a304-02ef-41a7-941a-f16a3e7d62f8"
      },
      "execution_count": 3,
      "outputs": [
        {
          "output_type": "stream",
          "name": "stdout",
          "text": [
            "19\n",
            "6\n",
            "19\n",
            "6\n"
          ]
        }
      ]
    },
    {
      "cell_type": "markdown",
      "source": [
        "**Problem 2 - SinglyLikedList rearrange_even_odd**"
      ],
      "metadata": {
        "id": "MZbyDw0hYaHK"
      }
    },
    {
      "cell_type": "code",
      "source": [
        "class Node:\n",
        "    def __init__(self, element=None, next=None):\n",
        "        self._element = element\n",
        "        self._next = next\n",
        "\n",
        "\n",
        "class SingleLinkedList:\n",
        "    def __init__(self):\n",
        "        \"\"\"Create an empty LinkedList.\"\"\"\n",
        "        self._head = None\n",
        "        self._size = 0\n",
        "\n",
        "    def __len__(self):\n",
        "        \"\"\"Return the number of elements in the LinkedList.\"\"\"\n",
        "        return self._size\n",
        "\n",
        "    def is_empty(self):\n",
        "        \"\"\"Return True if the LinkedList is empty.\"\"\"\n",
        "        return self._size == 0\n",
        "\n",
        "    def insertAtFirst(self, e):\n",
        "        \"\"\"Add element e to the start of the LinkedList.\"\"\"\n",
        "        newNode = Node(e, self._head)\n",
        "        self._head = newNode\n",
        "        self._size += 1\n",
        "        return newNode\n",
        "\n",
        "    def __str__(self):\n",
        "        result = \"Head-->\"\n",
        "        currNode = self._head\n",
        "        while currNode is not None:\n",
        "            result += str(currNode._element) + \"-->\"\n",
        "            currNode = currNode._next\n",
        "        return result + \"None\"\n",
        "\n",
        "    # Solution 1:\n",
        "    def rearrange_even_odd(self):\n",
        "        if self._head is None:\n",
        "            return\n",
        "\n",
        "        # Separate even and odd nodes into separate lists\n",
        "        even_head = even_tail = None\n",
        "        odd_head = odd_tail = None\n",
        "        curr = self._head\n",
        "        while curr:\n",
        "            if curr._element % 2 == 0:  # even node\n",
        "                if not even_head:\n",
        "                    even_head = even_tail = curr\n",
        "                else:\n",
        "                    even_tail._next = curr\n",
        "                    even_tail = curr\n",
        "            else:  # odd node\n",
        "                if not odd_head:\n",
        "                    odd_head = odd_tail = curr\n",
        "                else:\n",
        "                    odd_tail._next = curr\n",
        "                    odd_tail = curr\n",
        "            curr = curr._next\n",
        "\n",
        "        # Connect even and odd lists\n",
        "        if even_tail:\n",
        "            even_tail._next = odd_head\n",
        "        else:\n",
        "            even_head = odd_head\n",
        "        if odd_tail:\n",
        "            odd_tail._next = None\n",
        "\n",
        "        self._head = even_head\n",
        "\n",
        "    # Solution 2:\n",
        "    def rearrange_even_odd_recursive(self):\n",
        "        head_e, tail_e, head_o, tail_o = self.rearrange_even_odd_recursive_helper(self._head, self._size)\n",
        "        if head_e:\n",
        "          # some even number exists, so concat tail_e with head_o, and make head_e as the final head\n",
        "          tail_e._next = head_o\n",
        "          self._head = head_e\n",
        "        else:\n",
        "          # only odd numbers exist, so no need to concatenate. just make head_o as the final head\n",
        "          self._head = head_o\n",
        "\n",
        "\n",
        "    def rearrange_even_odd_recursive_helper(self, node, size):\n",
        "        if size == 0:\n",
        "            return (None, None, None, None)\n",
        "        if size == 1:\n",
        "            if node._element%2 == 0:\n",
        "                return (node, node, None, None)\n",
        "            return (None, None, node, node)\n",
        "\n",
        "        # take one node out, and use recursion to process the rest first\n",
        "        head_e, tail_e, head_o, tail_o = self.rearrange_even_odd_recursive_helper(node._next, size-1)\n",
        "\n",
        "        # now perform the concatenation\n",
        "        if node._element%2 == 0:\n",
        "            # even, make node as the even head\n",
        "            node._next = head_e\n",
        "            return (node, tail_e, head_o, tail_o)\n",
        "        else:\n",
        "            # odd, make node as the odd head\n",
        "            node._next = head_o\n",
        "            return (head_e, tail_e, node, tail_o)\n",
        "\n",
        "if __name__ == '__main__':\n",
        "    sll = SingleLinkedList()\n",
        "    sll.insertAtFirst(8)\n",
        "    sll.insertAtFirst(6)\n",
        "    sll.insertAtFirst(1)\n",
        "    sll.insertAtFirst(3)\n",
        "    sll.insertAtFirst(2)\n",
        "    sll.insertAtFirst(7)\n",
        "    sll.insertAtFirst(9)\n",
        "    sll.insertAtFirst(5)\n",
        "\n",
        "    print(sll)  # prints:\n",
        "    # Head-->6-->9-->7-->2-->3-->1-->6-->8-->None\n",
        "\n",
        "#    sll.rearrange_even_odd()\n",
        "    sll.rearrange_even_odd_recursive()\n",
        "\n",
        "    print(sll)  # prints:\n",
        "    # Head-->2-->6-->8-->5-->9-->7-->3-->1-->None"
      ],
      "metadata": {
        "id": "VNT3TNfmYaO4",
        "colab": {
          "base_uri": "https://localhost:8080/"
        },
        "outputId": "314adc21-9e14-4cd9-c82c-388846e951c3"
      },
      "execution_count": 7,
      "outputs": [
        {
          "output_type": "stream",
          "name": "stdout",
          "text": [
            "Head-->5-->9-->7-->2-->3-->1-->6-->8-->None\n",
            "Head-->2-->6-->8-->5-->9-->7-->3-->1-->None\n"
          ]
        }
      ]
    },
    {
      "cell_type": "markdown",
      "source": [
        "### Recursive solution"
      ],
      "metadata": {
        "id": "W9kQG39YhpU7"
      }
    },
    {
      "cell_type": "code",
      "source": [],
      "metadata": {
        "id": "d1OzupRxhmM5"
      },
      "execution_count": null,
      "outputs": []
    }
  ]
}